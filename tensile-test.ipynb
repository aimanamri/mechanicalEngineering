{
 "cells": [
  {
   "cell_type": "markdown",
   "id": "41e6688d-91b6-40b5-ad76-005f9e1eb440",
   "metadata": {},
   "source": [
    "# 課題：引張り試験"
   ]
  },
  {
   "cell_type": "markdown",
   "id": "01140f17-ed6f-464f-898d-a667f1a17404",
   "metadata": {
    "tags": []
   },
   "source": [
    "<h2>データ整理</h2>"
   ]
  },
  {
   "cell_type": "code",
   "execution_count": 1,
   "id": "beec045f-adda-4a8d-85cb-420b5d6d4aed",
   "metadata": {},
   "outputs": [],
   "source": [
    "import pandas as pd\n",
    "import numpy as np\n",
    "import matplotlib.pyplot as plt\n",
    "import japanize_matplotlib #日本語の表示\n",
    "%matplotlib inline\n",
    "data = pd.read_excel('practice.xlsx',header=None)"
   ]
  },
  {
   "cell_type": "code",
   "execution_count": 2,
   "id": "617b8f41-319e-42d0-976d-b6a75a3fff12",
   "metadata": {},
   "outputs": [],
   "source": [
    "df1 = data.iloc[0:6,0:5].fillna('-')\n",
    "df2 = data.iloc[8:,0:4].reset_index(drop=True)\n",
    "df2.rename(columns={0:\"no\",1:\"weight_kN\",2:\"stretch_mm\",3:\"shrink_mm\"},inplace=True)"
   ]
  },
  {
   "cell_type": "code",
   "execution_count": 3,
   "id": "96c7312b-565c-49c4-8eb7-300e4a39d9e2",
   "metadata": {
    "tags": []
   },
   "outputs": [
    {
     "data": {
      "text/html": [
       "<div><div id=e8c9e0cd-52d1-4044-839c-ab668a04f8e8 style=\"display:none; background-color:#9D6CFF; color:white; width:200px; height:30px; padding-left:5px; border-radius:4px; flex-direction:row; justify-content:space-around; align-items:center;\" onmouseover=\"this.style.backgroundColor='#BA9BF8'\" onmouseout=\"this.style.backgroundColor='#9D6CFF'\" onclick=\"window.commands?.execute('create-mitosheet-from-dataframe-output');\">See Full Dataframe in Mito</div> <script> if (window.commands.hasCommand('create-mitosheet-from-dataframe-output')) document.getElementById('e8c9e0cd-52d1-4044-839c-ab668a04f8e8').style.display = 'flex' </script> <table border=\"1\" class=\"dataframe\">\n",
       "  <thead>\n",
       "    <tr style=\"text-align: right;\">\n",
       "      <th></th>\n",
       "      <th>0</th>\n",
       "      <th>1</th>\n",
       "      <th>2</th>\n",
       "      <th>3</th>\n",
       "      <th>4</th>\n",
       "    </tr>\n",
       "  </thead>\n",
       "  <tbody>\n",
       "    <tr>\n",
       "      <th>0</th>\n",
       "      <td>形状</td>\n",
       "      <td>試験前</td>\n",
       "      <td>-</td>\n",
       "      <td>試験後</td>\n",
       "      <td>-</td>\n",
       "    </tr>\n",
       "    <tr>\n",
       "      <th>1</th>\n",
       "      <td>-</td>\n",
       "      <td>標点間距離</td>\n",
       "      <td>外径</td>\n",
       "      <td>標点間距離</td>\n",
       "      <td>外径</td>\n",
       "    </tr>\n",
       "    <tr>\n",
       "      <th>2</th>\n",
       "      <td>-</td>\n",
       "      <td>mm</td>\n",
       "      <td>mm</td>\n",
       "      <td>mm</td>\n",
       "      <td>mm</td>\n",
       "    </tr>\n",
       "    <tr>\n",
       "      <th>3</th>\n",
       "      <td>-</td>\n",
       "      <td>50.05</td>\n",
       "      <td>14</td>\n",
       "      <td>70.3</td>\n",
       "      <td>8.9</td>\n",
       "    </tr>\n",
       "    <tr>\n",
       "      <th>4</th>\n",
       "      <td>-</td>\n",
       "      <td>50.2</td>\n",
       "      <td>14</td>\n",
       "      <td>70.7</td>\n",
       "      <td>8.8</td>\n",
       "    </tr>\n",
       "    <tr>\n",
       "      <th>5</th>\n",
       "      <td>-</td>\n",
       "      <td>50.15</td>\n",
       "      <td>14</td>\n",
       "      <td>70.4</td>\n",
       "      <td>8.95</td>\n",
       "    </tr>\n",
       "  </tbody>\n",
       "</table></div>"
      ],
      "text/plain": [
       "    0      1   2      3     4\n",
       "0  形状    試験前   -    試験後     -\n",
       "1   -  標点間距離  外径  標点間距離    外径\n",
       "2   -     mm  mm     mm    mm\n",
       "3   -  50.05  14   70.3   8.9\n",
       "4   -   50.2  14   70.7   8.8\n",
       "5   -  50.15  14   70.4  8.95"
      ]
     },
     "execution_count": 3,
     "metadata": {},
     "output_type": "execute_result"
    }
   ],
   "source": [
    "df1.head(10)"
   ]
  },
  {
   "cell_type": "code",
   "execution_count": 4,
   "id": "2632db3b-7736-4f4c-8df7-aef90af273db",
   "metadata": {},
   "outputs": [
    {
     "data": {
      "text/html": [
       "<div><div id=40486d65-943c-4d60-bfc6-1a3ed4a01565 style=\"display:none; background-color:#9D6CFF; color:white; width:200px; height:30px; padding-left:5px; border-radius:4px; flex-direction:row; justify-content:space-around; align-items:center;\" onmouseover=\"this.style.backgroundColor='#BA9BF8'\" onmouseout=\"this.style.backgroundColor='#9D6CFF'\" onclick=\"window.commands?.execute('create-mitosheet-from-dataframe-output');\">See Full Dataframe in Mito</div> <script> if (window.commands.hasCommand('create-mitosheet-from-dataframe-output')) document.getElementById('40486d65-943c-4d60-bfc6-1a3ed4a01565').style.display = 'flex' </script> <table border=\"1\" class=\"dataframe\">\n",
       "  <thead>\n",
       "    <tr style=\"text-align: right;\">\n",
       "      <th></th>\n",
       "      <th>no</th>\n",
       "      <th>weight_kN</th>\n",
       "      <th>stretch_mm</th>\n",
       "      <th>shrink_mm</th>\n",
       "    </tr>\n",
       "  </thead>\n",
       "  <tbody>\n",
       "    <tr>\n",
       "      <th>0</th>\n",
       "      <td>No.</td>\n",
       "      <td>荷重</td>\n",
       "      <td>伸び（引張方向）</td>\n",
       "      <td>縮み（垂直方向）</td>\n",
       "    </tr>\n",
       "    <tr>\n",
       "      <th>1</th>\n",
       "      <td>－</td>\n",
       "      <td>KN</td>\n",
       "      <td>mm</td>\n",
       "      <td>mm</td>\n",
       "    </tr>\n",
       "    <tr>\n",
       "      <th>2</th>\n",
       "      <td>1</td>\n",
       "      <td>2</td>\n",
       "      <td>0</td>\n",
       "      <td>0</td>\n",
       "    </tr>\n",
       "    <tr>\n",
       "      <th>3</th>\n",
       "      <td>2</td>\n",
       "      <td>4</td>\n",
       "      <td>0.0043</td>\n",
       "      <td>-0.0012</td>\n",
       "    </tr>\n",
       "    <tr>\n",
       "      <th>4</th>\n",
       "      <td>3</td>\n",
       "      <td>5.9</td>\n",
       "      <td>0.0066</td>\n",
       "      <td>-0.0018</td>\n",
       "    </tr>\n",
       "    <tr>\n",
       "      <th>5</th>\n",
       "      <td>4</td>\n",
       "      <td>7.9</td>\n",
       "      <td>0.0096</td>\n",
       "      <td>-0.0025</td>\n",
       "    </tr>\n",
       "    <tr>\n",
       "      <th>6</th>\n",
       "      <td>5</td>\n",
       "      <td>9.8</td>\n",
       "      <td>0.0133</td>\n",
       "      <td>-0.0035</td>\n",
       "    </tr>\n",
       "    <tr>\n",
       "      <th>7</th>\n",
       "      <td>6</td>\n",
       "      <td>11.8</td>\n",
       "      <td>0.0163</td>\n",
       "      <td>-0.0042</td>\n",
       "    </tr>\n",
       "    <tr>\n",
       "      <th>8</th>\n",
       "      <td>7</td>\n",
       "      <td>13.8</td>\n",
       "      <td>0.0196</td>\n",
       "      <td>-0.0049</td>\n",
       "    </tr>\n",
       "    <tr>\n",
       "      <th>9</th>\n",
       "      <td>8</td>\n",
       "      <td>15.7</td>\n",
       "      <td>0.0226</td>\n",
       "      <td>-0.0058</td>\n",
       "    </tr>\n",
       "  </tbody>\n",
       "</table></div>"
      ],
      "text/plain": [
       "    no weight_kN stretch_mm shrink_mm\n",
       "0  No.        荷重   伸び（引張方向）  縮み（垂直方向）\n",
       "1    －        KN         mm        mm\n",
       "2    1         2          0         0\n",
       "3    2         4     0.0043   -0.0012\n",
       "4    3       5.9     0.0066   -0.0018\n",
       "5    4       7.9     0.0096   -0.0025\n",
       "6    5       9.8     0.0133   -0.0035\n",
       "7    6      11.8     0.0163   -0.0042\n",
       "8    7      13.8     0.0196   -0.0049\n",
       "9    8      15.7     0.0226   -0.0058"
      ]
     },
     "execution_count": 4,
     "metadata": {},
     "output_type": "execute_result"
    }
   ],
   "source": [
    "df2.head(10) #最初の10つを確認"
   ]
  },
  {
   "cell_type": "code",
   "execution_count": 5,
   "id": "9a294bea-bc58-4692-b1e4-6c02964baefd",
   "metadata": {},
   "outputs": [
    {
     "data": {
      "text/html": [
       "<div><div id=c11e819a-b1f0-4dfc-9fc1-06f44f709e68 style=\"display:none; background-color:#9D6CFF; color:white; width:200px; height:30px; padding-left:5px; border-radius:4px; flex-direction:row; justify-content:space-around; align-items:center;\" onmouseover=\"this.style.backgroundColor='#BA9BF8'\" onmouseout=\"this.style.backgroundColor='#9D6CFF'\" onclick=\"window.commands?.execute('create-mitosheet-from-dataframe-output');\">See Full Dataframe in Mito</div> <script> if (window.commands.hasCommand('create-mitosheet-from-dataframe-output')) document.getElementById('c11e819a-b1f0-4dfc-9fc1-06f44f709e68').style.display = 'flex' </script> <table border=\"1\" class=\"dataframe\">\n",
       "  <thead>\n",
       "    <tr style=\"text-align: right;\">\n",
       "      <th></th>\n",
       "      <th>distance_bef</th>\n",
       "      <th>diameter_bef</th>\n",
       "      <th>distance_aft</th>\n",
       "      <th>diameter_aft</th>\n",
       "    </tr>\n",
       "  </thead>\n",
       "  <tbody>\n",
       "    <tr>\n",
       "      <th>0</th>\n",
       "      <td>50.05</td>\n",
       "      <td>14.0</td>\n",
       "      <td>70.3</td>\n",
       "      <td>8.90</td>\n",
       "    </tr>\n",
       "    <tr>\n",
       "      <th>1</th>\n",
       "      <td>50.20</td>\n",
       "      <td>14.0</td>\n",
       "      <td>70.7</td>\n",
       "      <td>8.80</td>\n",
       "    </tr>\n",
       "    <tr>\n",
       "      <th>2</th>\n",
       "      <td>50.15</td>\n",
       "      <td>14.0</td>\n",
       "      <td>70.4</td>\n",
       "      <td>8.95</td>\n",
       "    </tr>\n",
       "  </tbody>\n",
       "</table></div>"
      ],
      "text/plain": [
       "   distance_bef  diameter_bef  distance_aft  diameter_aft\n",
       "0         50.05          14.0          70.3          8.90\n",
       "1         50.20          14.0          70.7          8.80\n",
       "2         50.15          14.0          70.4          8.95"
      ]
     },
     "execution_count": 5,
     "metadata": {},
     "output_type": "execute_result"
    }
   ],
   "source": [
    "# 試験片のデータ\n",
    "shikenhen = df1.iloc[3:,1:].astype(float).reset_index(drop=True)\n",
    "shikenhen.rename(columns={1:\"distance_bef\",2:\"diameter_bef\",3:\"distance_aft\",4:\"diameter_aft\"},inplace=True)\n",
    "shikenhen"
   ]
  },
  {
   "cell_type": "code",
   "execution_count": 6,
   "id": "b9b85413-c369-4e7b-a26f-d5705a962d28",
   "metadata": {
    "tags": []
   },
   "outputs": [
    {
     "name": "stdout",
     "output_type": "stream",
     "text": [
      "    weight_kN  stretch_mm  shrink_mm\n",
      "0         2.0      0.0000     0.0000\n",
      "1         4.0      0.0043    -0.0012\n",
      "2         5.9      0.0066    -0.0018\n",
      "3         7.9      0.0096    -0.0025\n",
      "4         9.8      0.0133    -0.0035\n",
      "5        11.8      0.0163    -0.0042\n",
      "6        13.8      0.0196    -0.0049\n",
      "7        15.7      0.0226    -0.0058\n",
      "8        17.7      0.0256    -0.0065\n",
      "9        19.6      0.0291    -0.0074\n",
      "10       21.6      0.0324    -0.0082\n",
      "11       23.6      0.0351    -0.0090\n",
      "12       25.5      0.0382    -0.0097\n",
      "13       27.5      0.0412    -0.0104\n",
      "14       29.4      0.0447    -0.0112\n",
      "15       33.4      0.0502    -0.0128\n",
      "16       37.3      0.0572    -0.0143\n",
      "17       41.2      0.0647    -0.0158\n",
      "18       45.1      0.0697    -0.0173\n",
      "19       43.8      1.5697     0.0000\n",
      "20       50.0      2.0697     0.0000\n",
      "21       52.2      2.5697     0.0000\n",
      "22       54.5      3.0697     0.0000\n",
      "23       56.5      3.5697     0.0000\n",
      "24       59.6      4.5697     0.0000\n",
      "25       62.3      5.5697     0.0000\n",
      "26       63.8      6.5697     0.0000\n",
      "27       65.3      7.5697     0.0000\n",
      "28       66.2      8.5697     0.0000\n",
      "29       67.1      9.5697     0.0000\n",
      "30       67.7     10.5697     0.0000\n",
      "31       68.0     11.5697     0.0000\n",
      "32       68.1     12.5697     0.0000\n",
      "33       68.2     13.5697     0.0000\n",
      "34       68.2     14.5697     0.0000\n",
      "35       68.1     15.5697     0.0000\n",
      "36       67.7     16.5697     0.0000\n",
      "37       67.1     17.5697     0.0000\n",
      "38       65.9     18.5697     0.0000\n",
      "39       63.9     19.5697     0.0000\n",
      "40       61.2     20.5697     0.0000\n",
      "41       57.6     21.5697     0.0000\n",
      "42       52.8     22.5697     0.0000\n"
     ]
    }
   ],
   "source": [
    "# 引張り試験のデータ\n",
    "hippari = df2[[\"weight_kN\",\"stretch_mm\",\"shrink_mm\"]].fillna(0).iloc[2:].astype(float).reset_index(drop=True)\n",
    "print(hippari)"
   ]
  },
  {
   "cell_type": "code",
   "execution_count": 7,
   "id": "bdf31fba-565e-43df-a2ce-d660ea79d0ad",
   "metadata": {},
   "outputs": [
    {
     "name": "stdout",
     "output_type": "stream",
     "text": [
      "<class 'pandas.core.frame.DataFrame'>\n",
      "RangeIndex: 43 entries, 0 to 42\n",
      "Data columns (total 3 columns):\n",
      " #   Column      Non-Null Count  Dtype  \n",
      "---  ------      --------------  -----  \n",
      " 0   weight_kN   43 non-null     float64\n",
      " 1   stretch_mm  43 non-null     float64\n",
      " 2   shrink_mm   43 non-null     float64\n",
      "dtypes: float64(3)\n",
      "memory usage: 1.1 KB\n"
     ]
    },
    {
     "data": {
      "text/html": [
       "<div><div id=65618076-1b2e-4d34-99b6-a12c2970d116 style=\"display:none; background-color:#9D6CFF; color:white; width:200px; height:30px; padding-left:5px; border-radius:4px; flex-direction:row; justify-content:space-around; align-items:center;\" onmouseover=\"this.style.backgroundColor='#BA9BF8'\" onmouseout=\"this.style.backgroundColor='#9D6CFF'\" onclick=\"window.commands?.execute('create-mitosheet-from-dataframe-output');\">See Full Dataframe in Mito</div> <script> if (window.commands.hasCommand('create-mitosheet-from-dataframe-output')) document.getElementById('65618076-1b2e-4d34-99b6-a12c2970d116').style.display = 'flex' </script> <table border=\"1\" class=\"dataframe\">\n",
       "  <thead>\n",
       "    <tr style=\"text-align: right;\">\n",
       "      <th></th>\n",
       "      <th>weight_kN</th>\n",
       "      <th>stretch_mm</th>\n",
       "      <th>shrink_mm</th>\n",
       "    </tr>\n",
       "  </thead>\n",
       "  <tbody>\n",
       "    <tr>\n",
       "      <th>count</th>\n",
       "      <td>43.000000</td>\n",
       "      <td>43.000000</td>\n",
       "      <td>43.000000</td>\n",
       "    </tr>\n",
       "    <tr>\n",
       "      <th>mean</th>\n",
       "      <td>43.688372</td>\n",
       "      <td>6.308214</td>\n",
       "      <td>-0.003407</td>\n",
       "    </tr>\n",
       "    <tr>\n",
       "      <th>std</th>\n",
       "      <td>22.914408</td>\n",
       "      <td>7.548285</td>\n",
       "      <td>0.005093</td>\n",
       "    </tr>\n",
       "    <tr>\n",
       "      <th>min</th>\n",
       "      <td>2.000000</td>\n",
       "      <td>0.000000</td>\n",
       "      <td>-0.017300</td>\n",
       "    </tr>\n",
       "    <tr>\n",
       "      <th>25%</th>\n",
       "      <td>22.600000</td>\n",
       "      <td>0.033750</td>\n",
       "      <td>-0.006150</td>\n",
       "    </tr>\n",
       "    <tr>\n",
       "      <th>50%</th>\n",
       "      <td>52.200000</td>\n",
       "      <td>2.569700</td>\n",
       "      <td>0.000000</td>\n",
       "    </tr>\n",
       "    <tr>\n",
       "      <th>75%</th>\n",
       "      <td>65.600000</td>\n",
       "      <td>12.069700</td>\n",
       "      <td>0.000000</td>\n",
       "    </tr>\n",
       "    <tr>\n",
       "      <th>max</th>\n",
       "      <td>68.200000</td>\n",
       "      <td>22.569700</td>\n",
       "      <td>0.000000</td>\n",
       "    </tr>\n",
       "  </tbody>\n",
       "</table></div>"
      ],
      "text/plain": [
       "       weight_kN  stretch_mm  shrink_mm\n",
       "count  43.000000   43.000000  43.000000\n",
       "mean   43.688372    6.308214  -0.003407\n",
       "std    22.914408    7.548285   0.005093\n",
       "min     2.000000    0.000000  -0.017300\n",
       "25%    22.600000    0.033750  -0.006150\n",
       "50%    52.200000    2.569700   0.000000\n",
       "75%    65.600000   12.069700   0.000000\n",
       "max    68.200000   22.569700   0.000000"
      ]
     },
     "execution_count": 7,
     "metadata": {},
     "output_type": "execute_result"
    }
   ],
   "source": [
    "hippari.info()\n",
    "hippari.describe()"
   ]
  },
  {
   "cell_type": "markdown",
   "id": "aad23524-d16d-42b1-b4a7-3712c0226f0f",
   "metadata": {
    "tags": []
   },
   "source": [
    "## 求める材料定数\n",
    "- ヤング率 E [GPa]\n",
    "- ポアソン比　ν\n",
    "- 引張強さ σ_max [MPa]\n",
    "- 上降伏応力 [MPa]\n",
    "- 下降伏応力 [MPa]\n",
    "- 全伸び　δ\n",
    "- 絞り φ\n",
    "- 塑性係数 F [MPa]\n",
    "- 加工硬化指数 n"
   ]
  },
  {
   "cell_type": "code",
   "execution_count": 8,
   "id": "732a3a24-3e98-4675-9d3c-d604dc591095",
   "metadata": {},
   "outputs": [
    {
     "name": "stdout",
     "output_type": "stream",
     "text": [
      "試験前の標点間距離の平均は 50.1333 mm\n",
      "試験後の標点間距離の平均は 70.4667 mm\n"
     ]
    }
   ],
   "source": [
    "avg_distance_before = shikenhen[\"distance_bef\"].mean()\n",
    "print(f'試験前の標点間距離の平均は {avg_distance_before.round(4)} mm')\n",
    "avg_distance_after = shikenhen[\"distance_aft\"].mean()\n",
    "print(f'試験後の標点間距離の平均は {avg_distance_after.round(4)} mm')"
   ]
  },
  {
   "cell_type": "code",
   "execution_count": 9,
   "id": "d8086c2c-c9c7-4a14-bb57-dc27224d0218",
   "metadata": {},
   "outputs": [
    {
     "name": "stdout",
     "output_type": "stream",
     "text": [
      "試験前の外径の平均は 14.0 mm\n",
      "試験前の断面積は 153.938 mm^2\n"
     ]
    }
   ],
   "source": [
    "avg_diameter_before = shikenhen[\"diameter_bef\"].mean(axis=0)\n",
    "print(f'試験前の外径の平均は {avg_diameter_before.round(4)} mm')\n",
    "area_before = (np.pi*(avg_diameter_before/2)**2).round(4)\n",
    "print(f'試験前の断面積は {area_before} mm^2')"
   ]
  },
  {
   "cell_type": "code",
   "execution_count": 10,
   "id": "ba9e9ce4-799a-4ab1-9265-01131a4387a1",
   "metadata": {},
   "outputs": [
    {
     "name": "stdout",
     "output_type": "stream",
     "text": [
      "試験前後外径の平均は 8.8833 mm\n",
      "試験後の断面積は 61.9786 mm^2\n"
     ]
    }
   ],
   "source": [
    "avg_diameter_after = shikenhen[\"diameter_aft\"].mean(axis=0)\n",
    "print(f'試験前後外径の平均は {avg_diameter_after.round(4)} mm')\n",
    "area_after = (np.pi*(avg_diameter_after/2)**2).round(4)\n",
    "print(f'試験後の断面積は {area_after} mm^2')"
   ]
  },
  {
   "cell_type": "code",
   "execution_count": 11,
   "id": "4ee92056-52ac-4964-8e92-5bded5881c4e",
   "metadata": {},
   "outputs": [
    {
     "name": "stdout",
     "output_type": "stream",
     "text": [
      "最大荷重は 68.2 kN\n"
     ]
    }
   ],
   "source": [
    "P_max = hippari[\"weight_kN\"].max().round(2) #最大荷重\n",
    "print(f'最大荷重は {P_max} kN')"
   ]
  },
  {
   "cell_type": "code",
   "execution_count": 12,
   "id": "6c915bc9-deef-4026-b645-2bfaaebad6ae",
   "metadata": {},
   "outputs": [
    {
     "name": "stdout",
     "output_type": "stream",
     "text": [
      "引張強さ σ_max は 443.0355 MPa\n"
     ]
    }
   ],
   "source": [
    "sigma_max = P_max*10**3/area_before\n",
    "print(f'引張強さ σ_max は {sigma_max.round(4)} MPa')"
   ]
  },
  {
   "cell_type": "code",
   "execution_count": 13,
   "id": "6e7d61b7-de94-46f8-b454-5bcdca82465f",
   "metadata": {},
   "outputs": [
    {
     "name": "stdout",
     "output_type": "stream",
     "text": [
      "全伸び δ は 0.4056\n"
     ]
    }
   ],
   "source": [
    "zennobi = (avg_distance_after-avg_distance_before)/avg_distance_before\n",
    "print(f'全伸び δ は {zennobi.round(4)}')"
   ]
  },
  {
   "cell_type": "code",
   "execution_count": 14,
   "id": "45a815ed-6165-49ee-9534-ffb33eaa0e71",
   "metadata": {},
   "outputs": [
    {
     "name": "stdout",
     "output_type": "stream",
     "text": [
      "絞り φ は 0.5974\n"
     ]
    }
   ],
   "source": [
    "# 絞り\n",
    "shibori = (area_before-area_after)/area_before\n",
    "print(f'絞り φ は {shibori.round(4)}')"
   ]
  },
  {
   "cell_type": "code",
   "execution_count": 15,
   "id": "f4003284-f704-4d59-8763-54fdddc6ffd5",
   "metadata": {},
   "outputs": [],
   "source": [
    "# 公称応力、公称ひずみ、対数ひずみ、実応力を計算する\n",
    "hippari[\"nominal_stress_MPa\"] = (hippari[\"weight_kN\"]*1000/area_before).round(1) #公称応力\n",
    "hippari[\"nominal_strain\"] = hippari[\"stretch_mm\"]*10**(-6) #公称ひずみ\n",
    "hippari[\"log_strain\"] = np.log(1+hippari[\"nominal_strain\"]) #対数ひずみ\n",
    "hippari[\"true_stress_MPa\"] = hippari[\"nominal_stress_MPa\"]*(1+hippari[\"nominal_strain\"]) #実応力\n",
    "\n",
    "# 一様変形が開始したところから最大荷重点の一つ前までのデータを求める\n",
    "hippari2 = hippari.copy()\n",
    "hippari2 = hippari2.iloc[19:33].reset_index(drop=True)\n",
    "hippari2[\"shrink_mm\"].replace(0, pd.NA,inplace=True)\n",
    "hippari2.drop(columns=['nominal_stress_MPa','nominal_strain'],inplace=True)\n",
    "\n",
    "# csvファイルに出力\n",
    "hippari.drop(columns=[\"log_strain\",\"true_stress_MPa\"],inplace=False).to_csv(\"hippari.csv\",index=False,float_format='%g')\n",
    "hippari2.to_csv(\"hippari2.csv\",index=False,float_format='%g')"
   ]
  },
  {
   "cell_type": "code",
   "execution_count": 16,
   "id": "7f1422e0-d5fe-44b0-902e-dd0ea48d339f",
   "metadata": {
    "tags": []
   },
   "outputs": [
    {
     "name": "stdout",
     "output_type": "stream",
     "text": [
      "    weight_kN  stretch_mm  shrink_mm  nominal_stress_MPa  nominal_strain  \\\n",
      "0         2.0      0.0000     0.0000                13.0    0.000000e+00   \n",
      "1         4.0      0.0043    -0.0012                26.0    4.300000e-09   \n",
      "2         5.9      0.0066    -0.0018                38.3    6.600000e-09   \n",
      "3         7.9      0.0096    -0.0025                51.3    9.600000e-09   \n",
      "4         9.8      0.0133    -0.0035                63.7    1.330000e-08   \n",
      "5        11.8      0.0163    -0.0042                76.7    1.630000e-08   \n",
      "6        13.8      0.0196    -0.0049                89.6    1.960000e-08   \n",
      "7        15.7      0.0226    -0.0058               102.0    2.260000e-08   \n",
      "8        17.7      0.0256    -0.0065               115.0    2.560000e-08   \n",
      "9        19.6      0.0291    -0.0074               127.3    2.910000e-08   \n",
      "10       21.6      0.0324    -0.0082               140.3    3.240000e-08   \n",
      "11       23.6      0.0351    -0.0090               153.3    3.510000e-08   \n",
      "12       25.5      0.0382    -0.0097               165.7    3.820000e-08   \n",
      "13       27.5      0.0412    -0.0104               178.6    4.120000e-08   \n",
      "14       29.4      0.0447    -0.0112               191.0    4.470000e-08   \n",
      "15       33.4      0.0502    -0.0128               217.0    5.020000e-08   \n",
      "16       37.3      0.0572    -0.0143               242.3    5.720000e-08   \n",
      "17       41.2      0.0647    -0.0158               267.6    6.470000e-08   \n",
      "18       45.1      0.0697    -0.0173               293.0    6.970000e-08   \n",
      "19       43.8      1.5697     0.0000               284.5    1.569700e-06   \n",
      "20       50.0      2.0697     0.0000               324.8    2.069700e-06   \n",
      "21       52.2      2.5697     0.0000               339.1    2.569700e-06   \n",
      "22       54.5      3.0697     0.0000               354.0    3.069700e-06   \n",
      "23       56.5      3.5697     0.0000               367.0    3.569700e-06   \n",
      "24       59.6      4.5697     0.0000               387.2    4.569700e-06   \n",
      "25       62.3      5.5697     0.0000               404.7    5.569700e-06   \n",
      "26       63.8      6.5697     0.0000               414.5    6.569700e-06   \n",
      "27       65.3      7.5697     0.0000               424.2    7.569700e-06   \n",
      "28       66.2      8.5697     0.0000               430.0    8.569700e-06   \n",
      "29       67.1      9.5697     0.0000               435.9    9.569700e-06   \n",
      "30       67.7     10.5697     0.0000               439.8    1.056970e-05   \n",
      "31       68.0     11.5697     0.0000               441.7    1.156970e-05   \n",
      "32       68.1     12.5697     0.0000               442.4    1.256970e-05   \n",
      "33       68.2     13.5697     0.0000               443.0    1.356970e-05   \n",
      "34       68.2     14.5697     0.0000               443.0    1.456970e-05   \n",
      "35       68.1     15.5697     0.0000               442.4    1.556970e-05   \n",
      "36       67.7     16.5697     0.0000               439.8    1.656970e-05   \n",
      "37       67.1     17.5697     0.0000               435.9    1.756970e-05   \n",
      "38       65.9     18.5697     0.0000               428.1    1.856970e-05   \n",
      "39       63.9     19.5697     0.0000               415.1    1.956970e-05   \n",
      "40       61.2     20.5697     0.0000               397.6    2.056970e-05   \n",
      "41       57.6     21.5697     0.0000               374.2    2.156970e-05   \n",
      "42       52.8     22.5697     0.0000               343.0    2.256970e-05   \n",
      "\n",
      "      log_strain  true_stress_MPa  \n",
      "0   0.000000e+00        13.000000  \n",
      "1   4.300000e-09        26.000000  \n",
      "2   6.600000e-09        38.300000  \n",
      "3   9.600000e-09        51.300000  \n",
      "4   1.330000e-08        63.700001  \n",
      "5   1.630000e-08        76.700001  \n",
      "6   1.960000e-08        89.600002  \n",
      "7   2.260000e-08       102.000002  \n",
      "8   2.560000e-08       115.000003  \n",
      "9   2.910000e-08       127.300004  \n",
      "10  3.240000e-08       140.300005  \n",
      "11  3.510000e-08       153.300005  \n",
      "12  3.820000e-08       165.700006  \n",
      "13  4.120000e-08       178.600007  \n",
      "14  4.470000e-08       191.000009  \n",
      "15  5.020000e-08       217.000011  \n",
      "16  5.720000e-08       242.300014  \n",
      "17  6.470000e-08       267.600017  \n",
      "18  6.970000e-08       293.000020  \n",
      "19  1.569699e-06       284.500447  \n",
      "20  2.069698e-06       324.800672  \n",
      "21  2.569697e-06       339.100871  \n",
      "22  3.069695e-06       354.001087  \n",
      "23  3.569694e-06       367.001310  \n",
      "24  4.569690e-06       387.201769  \n",
      "25  5.569684e-06       404.702254  \n",
      "26  6.569678e-06       414.502723  \n",
      "27  7.569671e-06       424.203211  \n",
      "28  8.569663e-06       430.003685  \n",
      "29  9.569654e-06       435.904171  \n",
      "30  1.056964e-05       439.804649  \n",
      "31  1.156963e-05       441.705110  \n",
      "32  1.256962e-05       442.405561  \n",
      "33  1.356961e-05       443.006011  \n",
      "34  1.456959e-05       443.006454  \n",
      "35  1.556958e-05       442.406888  \n",
      "36  1.656956e-05       439.807287  \n",
      "37  1.756955e-05       435.907659  \n",
      "38  1.856953e-05       428.107950  \n",
      "39  1.956951e-05       415.108123  \n",
      "40  2.056949e-05       397.608179  \n",
      "41  2.156947e-05       374.208071  \n",
      "42  2.256945e-05       343.007741  \n"
     ]
    }
   ],
   "source": [
    "print(hippari)"
   ]
  },
  {
   "cell_type": "code",
   "execution_count": 17,
   "id": "b8b063bf-64f5-4510-bfb9-c70ea19dd054",
   "metadata": {
    "tags": []
   },
   "outputs": [
    {
     "name": "stdout",
     "output_type": "stream",
     "text": [
      "最大荷重は 68.2 kN\n",
      "\n",
      "    weight_kN  stretch_mm shrink_mm  log_strain  true_stress_MPa\n",
      "0        43.8      1.5697      <NA>    0.000002       284.500447\n",
      "1        50.0      2.0697      <NA>    0.000002       324.800672\n",
      "2        52.2      2.5697      <NA>    0.000003       339.100871\n",
      "3        54.5      3.0697      <NA>    0.000003       354.001087\n",
      "4        56.5      3.5697      <NA>    0.000004       367.001310\n",
      "5        59.6      4.5697      <NA>    0.000005       387.201769\n",
      "6        62.3      5.5697      <NA>    0.000006       404.702254\n",
      "7        63.8      6.5697      <NA>    0.000007       414.502723\n",
      "8        65.3      7.5697      <NA>    0.000008       424.203211\n",
      "9        66.2      8.5697      <NA>    0.000009       430.003685\n",
      "10       67.1      9.5697      <NA>    0.000010       435.904171\n",
      "11       67.7     10.5697      <NA>    0.000011       439.804649\n",
      "12       68.0     11.5697      <NA>    0.000012       441.705110\n",
      "13       68.1     12.5697      <NA>    0.000013       442.405561\n"
     ]
    }
   ],
   "source": [
    "print(f'最大荷重は {P_max} kN\\n')\n",
    "\n",
    "print(hippari2)"
   ]
  },
  {
   "cell_type": "code",
   "execution_count": 18,
   "id": "2a6a3699-11f5-4aad-b799-6a9cbd12dfc3",
   "metadata": {
    "tags": []
   },
   "outputs": [
    {
     "name": "stdout",
     "output_type": "stream",
     "text": [
      "上降伏応力 δ_upper は 293.0 MPa\n",
      "下降伏応力 δ_lower は 284.5 MPa\n"
     ]
    }
   ],
   "source": [
    "print(f'上降伏応力 δ_upper は 293.0 MPa')\n",
    "print(f'下降伏応力 δ_lower は 284.5 MPa')"
   ]
  },
  {
   "cell_type": "code",
   "execution_count": 19,
   "id": "42d198e3-c820-4ecc-9cb8-3580da987bd3",
   "metadata": {},
   "outputs": [
    {
     "data": {
      "image/png": "[encoded data removed]",
      "text/plain": [
       "<Figure size 864x432 with 2 Axes>"
      ]
     },
     "metadata": {
      "needs_background": "light"
     },
     "output_type": "display_data"
    }
   ],
   "source": [
    "x1=hippari[\"nominal_strain\"] \n",
    "y1=hippari[\"nominal_stress_MPa\"] \n",
    "x2=hippari2[\"log_strain\"]\n",
    "y2=hippari2[\"true_stress_MPa\"]\n",
    "plt.figure(figsize=(12,6))\n",
    "\n",
    "# plot for engineering stress- engineering strain diagram\n",
    "plt.subplot(1,2,1)\n",
    "plt.plot(x1,y1,linewidth=2.5)\n",
    "plt.fill_between(x1,y1,color='green',hatch='||',alpha=0.15)\n",
    "plt.title(\"公称応力ー公称ひずみ\",fontsize=20)\n",
    "plt.xlabel('公称ひずみ ε [-]', fontsize=16)\n",
    "plt.ylabel('公称応力 σ [MPa]', fontsize=16)\n",
    "plt.grid()\n",
    "\n",
    "# plot for true stress- logarithmic strain diagram\n",
    "plt.tight_layout(pad = 7.0)\n",
    "plt.subplot(1,2,2)\n",
    "plt.plot(x2,y2,'red',linewidth=2.5)\n",
    "plt.fill_between(x2,y2,color='yellow',hatch='\\\\',alpha=0.15)\n",
    "plt.title('実応力ー対数ひずみ',fontsize=20)\n",
    "plt.xlabel('対数ひずみ ε [-]', fontsize=16)\n",
    "plt.ylabel('実応力 σ [MPa]', fontsize=16)\n",
    "plt.grid()\n",
    "plt.savefig(\"stressstrain_diagram.jpg\", dpi=150)\n",
    "plt.show()"
   ]
  },
  {
   "cell_type": "markdown",
   "id": "b6e0148a-0a7b-416c-a8ac-c29f23f3044d",
   "metadata": {
    "tags": []
   },
   "source": [
    "# Compiled codes"
   ]
  },
  {
   "cell_type": "code",
   "execution_count": 20,
   "id": "771bbe00-f5b6-4ada-986b-6fa3f68e35d5",
   "metadata": {},
   "outputs": [],
   "source": [
    "# import pandas as pd\n",
    "# import numpy as np\n",
    "# import matplotlib.pyplot as plt\n",
    "# import japanize_matplotlib  # 日本語の表示\n",
    "\n",
    "# data = pd.read_excel(r'C:\\Users\\User\\Desktop\\practice.xlsx', header=None)\n",
    "# df1 = data.iloc[0:6, 0:5].fillna('-')\n",
    "# df2 = data.iloc[8:, 0:4].reset_index(drop=True)\n",
    "# df2.rename(columns={0: \"no\", 1: \"weight_kN\",\n",
    "#            2: \"stretch_mm\", 3: \"shrink_mm\"}, inplace=True)\n",
    "\n",
    "# # 試験片のデータ\n",
    "# shikenhen = df1.iloc[3:, 1:].astype(float).reset_index(drop=True)\n",
    "# shikenhen.rename(columns={1: \"distance_bef\", 2: \"diameter_bef\",\n",
    "#                  3: \"distance_aft\", 4: \"diameter_aft\"}, inplace=True)\n",
    "# # 引張り試験のデータ\n",
    "# hippari = df2[[\"weight_kN\", \"stretch_mm\", \"shrink_mm\"]].fillna(\n",
    "#     0).iloc[2:].astype(float).reset_index(drop=True)\n",
    "# # print(hippari)\n",
    "\n",
    "# avg_distance_before = shikenhen[\"distance_bef\"].mean()\n",
    "# print(f'試験前の標点間距離の平均は {avg_distance_before.round(4)} mm')\n",
    "# avg_distance_after = shikenhen[\"distance_aft\"].mean()\n",
    "# print(f'試験後の標点間距離の平均は {avg_distance_after.round(4)} mm')\n",
    "# avg_diameter_before = shikenhen[\"diameter_bef\"].mean(axis=0)\n",
    "# print(f'試験前の外径の平均は {avg_diameter_before.round(4)} mm')\n",
    "# area_before = (np.pi*(avg_diameter_before/2)**2).round(4)\n",
    "# print(f'試験前の断面積は {area_before} mm^2')\n",
    "# avg_diameter_after = shikenhen[\"diameter_aft\"].mean(axis=0)\n",
    "# print(f'試験前後外径の平均は {avg_diameter_after.round(4)} mm')\n",
    "# area_after = (np.pi*(avg_diameter_after/2)**2).round(4)\n",
    "# print(f'試験後の断面積は {area_after} mm^2')\n",
    "# # 最大荷重\n",
    "# P_max = hippari[\"weight_kN\"].max().round(2)\n",
    "# print(f'最大荷重は {P_max} kN')\n",
    "# # 引張強さ\n",
    "# sigma_max = P_max*10**3/area_before\n",
    "# print(f'引張強さ σ_max は {sigma_max.round(4)} MPa')\n",
    "# # 全伸び\n",
    "# zennobi = (avg_distance_after-avg_distance_before)/avg_distance_before\n",
    "# print(f'全伸び δ は {zennobi.round(4)}')\n",
    "# # 絞り\n",
    "# shibori = (area_before-area_after)/area_before\n",
    "# print(f'絞り φ は {shibori.round(4)}\\n')\n",
    "\n",
    "# # 公称応力、公称ひずみ、対数ひずみ、実応力を計算する\n",
    "# hippari[\"nominal_stress_MPa\"] = (hippari[\"weight_kN\"]*1000/area_before).round(1) #公称応力\n",
    "# hippari[\"nominal_strain\"] = hippari[\"stretch_mm\"]*10**(-6) #公称ひずみ\n",
    "# hippari[\"log_strain\"] = np.log(1+hippari[\"nominal_strain\"]) #対数ひずみ\n",
    "# hippari[\"true_stress_MPa\"] = hippari[\"nominal_stress_MPa\"]*(1+hippari[\"nominal_strain\"]) #実応力\n",
    "\n",
    "# # 一様変形が開始したところから最大荷重点の一つ前までのデータを求める\n",
    "# hippari2 = hippari.copy()\n",
    "# hippari2 = hippari2.iloc[19:33].reset_index(drop=True)\n",
    "# hippari2[\"shrink_mm\"].replace(0, pd.NA,inplace=True)\n",
    "# hippari2.drop(columns=['nominal_stress_MPa','nominal_strain'],inplace=True)\n",
    "\n",
    "# # csvファイルに出力\n",
    "# hippari.to_csv(\"hippari.csv\",index=False,float_format='%g')\n",
    "# hippari2.to_csv(\"hippari2.csv\",index=False,float_format='%g')\n",
    "\n",
    "# # stress-strain diagram\n",
    "# x1=hippari[\"nominal_strain\"] #  x軸\n",
    "# y1=hippari[\"nominal_stress_MPa\"] # y軸\n",
    "# x2=hippari2[\"log_strain\"]\n",
    "# y2=hippari2[\"true_stress_MPa\"]\n",
    "\n",
    "# plt.grid(True,alpha=0.3)\n",
    "# plt.plot(x1,y1,'g',label=\"公称ひずみー降伏応力\")\n",
    "# plt.plot(x2,y2,'r',label=\"対数ひずみー実応力\")\n",
    "# plt.title(\"塑性曲線(公称応力ー公称ひずみ、実応力ー対数ひずみ線図)\",fontsize=20,pad=20)\n",
    "# plt.xlabel('ひずみ ε [-]', fontsize=16)\n",
    "# plt.ylabel('応力　σ [MPa]', fontsize=16)\n",
    "# plt.legend()\n",
    "# plt.show()\n",
    "\n",
    "# print(f'\\n図より上降伏応力 δ_upper は 293.0 MPa')\n",
    "# print(f'図より下降伏応力 δ_lower は 284.5 MPa')"
   ]
  },
  {
   "cell_type": "code",
   "execution_count": null,
   "id": "59d71a6c-e575-48a7-b5ca-732bfc225e82",
   "metadata": {},
   "outputs": [],
   "source": []
  }
 ],
 "metadata": {
  "kernelspec": {
   "display_name": "Python 3 (ipykernel)",
   "language": "python",
   "name": "python3"
  },
  "language_info": {
   "codemirror_mode": {
    "name": "ipython",
    "version": 3
   },
   "file_extension": ".py",
   "mimetype": "text/x-python",
   "name": "python",
   "nbconvert_exporter": "python",
   "pygments_lexer": "ipython3",
   "version": "3.10.2"
  }
 },
 "nbformat": 4,
 "nbformat_minor": 5
}
