{
 "cells": [
  {
   "cell_type": "markdown",
   "id": "41e6688d-91b6-40b5-ad76-005f9e1eb440",
   "metadata": {},
   "source": [
    "# 課題２（プログラムによる引張試験結果の整理）について\n",
    " \n",
    "①　PYTHONによるプログラム作成および実行が可能なプラットフォームを準備する。\n",
    "\n",
    "②　“PYTHON_practice_ver2.xlsx”の中身を確認する。\n",
    "　　　引張試験結果（試験前後の形状、引張荷重、伸び（引張方向）、縮み（円周方向）のデータ列）\n",
    " \n",
    "③　PYTHONを用いて“PYTHON_practice_ver2.xlsx”を読み込み、公称ひずみ、公称応力、対数ひずみ、実応力を計算する。ただし、対数ひずみと実応力は一様変形が開始したところから最大荷重点の一つ前までのデータとして求める。\n",
    " \n",
    "④　PYTHONを用いて、ヤング率、ポアソン比、塑性係数、加工硬化、引張強さ、破断伸び（全伸び）、絞りを計算により求める。\n",
    " \n",
    "⑤　求めた結果についてPYTHONを用いてcsvファイルとして出力する。\n",
    " \n",
    "⑥　Excelでcsvファイルを読み込んで公称応力―公称ひずみ線図、実応力－対数ひずみ線図を一つのグラフとして作成する。"
   ]
  },
  {
   "cell_type": "markdown",
   "id": "01140f17-ed6f-464f-898d-a667f1a17404",
   "metadata": {
    "tags": []
   },
   "source": [
    "<h2>データ整理</h2>"
   ]
  },
  {
   "cell_type": "code",
   "execution_count": 1,
   "id": "beec045f-adda-4a8d-85cb-420b5d6d4aed",
   "metadata": {},
   "outputs": [],
   "source": [
    "import pandas as pd\n",
    "import numpy as np\n",
    "import matplotlib.pyplot as plt\n",
    "import japanize_matplotlib #日本語の表示\n",
    "%matplotlib inline\n",
    "data = pd.read_excel('practice.xlsx',header=None)"
   ]
  },
  {
   "cell_type": "code",
   "execution_count": 2,
   "id": "617b8f41-319e-42d0-976d-b6a75a3fff12",
   "metadata": {},
   "outputs": [],
   "source": [
    "df1 = data.iloc[0:6,0:5].fillna('-')\n",
    "df2 = data.iloc[8:,0:4].reset_index(drop=True)\n",
    "df2.rename(columns={0:\"No.\",1:\"Weight (kN)\",2:\"Stretch (mm)\",3:\"Shrink (mm)\"},inplace=True)"
   ]
  },
  {
   "cell_type": "code",
   "execution_count": 3,
   "id": "96c7312b-565c-49c4-8eb7-300e4a39d9e2",
   "metadata": {
    "tags": []
   },
   "outputs": [
    {
     "data": {
      "text/html": [
       "<div><div id=ecb868db-daf4-4b67-978a-7116615363c7 style=\"display:none; background-color:#9D6CFF; color:white; width:200px; height:30px; padding-left:5px; border-radius:4px; flex-direction:row; justify-content:space-around; align-items:center;\" onmouseover=\"this.style.backgroundColor='#BA9BF8'\" onmouseout=\"this.style.backgroundColor='#9D6CFF'\" onclick=\"window.commands?.execute('create-mitosheet-from-dataframe-output');\">See Full Dataframe in Mito</div> <script> if (window.commands.hasCommand('create-mitosheet-from-dataframe-output')) document.getElementById('ecb868db-daf4-4b67-978a-7116615363c7').style.display = 'flex' </script> <table border=\"1\" class=\"dataframe\">\n",
       "  <thead>\n",
       "    <tr style=\"text-align: right;\">\n",
       "      <th></th>\n",
       "      <th>0</th>\n",
       "      <th>1</th>\n",
       "      <th>2</th>\n",
       "      <th>3</th>\n",
       "      <th>4</th>\n",
       "    </tr>\n",
       "  </thead>\n",
       "  <tbody>\n",
       "    <tr>\n",
       "      <th>0</th>\n",
       "      <td>形状</td>\n",
       "      <td>試験前</td>\n",
       "      <td>-</td>\n",
       "      <td>試験後</td>\n",
       "      <td>-</td>\n",
       "    </tr>\n",
       "    <tr>\n",
       "      <th>1</th>\n",
       "      <td>-</td>\n",
       "      <td>標点間距離</td>\n",
       "      <td>外径</td>\n",
       "      <td>標点間距離</td>\n",
       "      <td>外径</td>\n",
       "    </tr>\n",
       "    <tr>\n",
       "      <th>2</th>\n",
       "      <td>-</td>\n",
       "      <td>mm</td>\n",
       "      <td>mm</td>\n",
       "      <td>mm</td>\n",
       "      <td>mm</td>\n",
       "    </tr>\n",
       "    <tr>\n",
       "      <th>3</th>\n",
       "      <td>-</td>\n",
       "      <td>50.05</td>\n",
       "      <td>14</td>\n",
       "      <td>70.3</td>\n",
       "      <td>8.9</td>\n",
       "    </tr>\n",
       "    <tr>\n",
       "      <th>4</th>\n",
       "      <td>-</td>\n",
       "      <td>50.2</td>\n",
       "      <td>14</td>\n",
       "      <td>70.7</td>\n",
       "      <td>8.8</td>\n",
       "    </tr>\n",
       "    <tr>\n",
       "      <th>5</th>\n",
       "      <td>-</td>\n",
       "      <td>50.15</td>\n",
       "      <td>14</td>\n",
       "      <td>70.4</td>\n",
       "      <td>8.95</td>\n",
       "    </tr>\n",
       "  </tbody>\n",
       "</table></div>"
      ],
      "text/plain": [
       "    0      1   2      3     4\n",
       "0  形状    試験前   -    試験後     -\n",
       "1   -  標点間距離  外径  標点間距離    外径\n",
       "2   -     mm  mm     mm    mm\n",
       "3   -  50.05  14   70.3   8.9\n",
       "4   -   50.2  14   70.7   8.8\n",
       "5   -  50.15  14   70.4  8.95"
      ]
     },
     "execution_count": 3,
     "metadata": {},
     "output_type": "execute_result"
    }
   ],
   "source": [
    "df1.head(6)"
   ]
  },
  {
   "cell_type": "code",
   "execution_count": 4,
   "id": "2632db3b-7736-4f4c-8df7-aef90af273db",
   "metadata": {},
   "outputs": [
    {
     "data": {
      "text/html": [
       "<div><div id=aedbe788-af3f-48e6-ae51-592fd18a8f45 style=\"display:none; background-color:#9D6CFF; color:white; width:200px; height:30px; padding-left:5px; border-radius:4px; flex-direction:row; justify-content:space-around; align-items:center;\" onmouseover=\"this.style.backgroundColor='#BA9BF8'\" onmouseout=\"this.style.backgroundColor='#9D6CFF'\" onclick=\"window.commands?.execute('create-mitosheet-from-dataframe-output');\">See Full Dataframe in Mito</div> <script> if (window.commands.hasCommand('create-mitosheet-from-dataframe-output')) document.getElementById('aedbe788-af3f-48e6-ae51-592fd18a8f45').style.display = 'flex' </script> <table border=\"1\" class=\"dataframe\">\n",
       "  <thead>\n",
       "    <tr style=\"text-align: right;\">\n",
       "      <th></th>\n",
       "      <th>No.</th>\n",
       "      <th>Weight (kN)</th>\n",
       "      <th>Stretch (mm)</th>\n",
       "      <th>Shrink (mm)</th>\n",
       "    </tr>\n",
       "  </thead>\n",
       "  <tbody>\n",
       "    <tr>\n",
       "      <th>0</th>\n",
       "      <td>No.</td>\n",
       "      <td>荷重</td>\n",
       "      <td>伸び（引張方向）</td>\n",
       "      <td>縮み（垂直方向）</td>\n",
       "    </tr>\n",
       "    <tr>\n",
       "      <th>1</th>\n",
       "      <td>－</td>\n",
       "      <td>KN</td>\n",
       "      <td>mm</td>\n",
       "      <td>mm</td>\n",
       "    </tr>\n",
       "    <tr>\n",
       "      <th>2</th>\n",
       "      <td>1</td>\n",
       "      <td>2</td>\n",
       "      <td>0</td>\n",
       "      <td>0</td>\n",
       "    </tr>\n",
       "    <tr>\n",
       "      <th>3</th>\n",
       "      <td>2</td>\n",
       "      <td>4</td>\n",
       "      <td>0.0043</td>\n",
       "      <td>-0.0012</td>\n",
       "    </tr>\n",
       "    <tr>\n",
       "      <th>4</th>\n",
       "      <td>3</td>\n",
       "      <td>5.9</td>\n",
       "      <td>0.0066</td>\n",
       "      <td>-0.0018</td>\n",
       "    </tr>\n",
       "    <tr>\n",
       "      <th>5</th>\n",
       "      <td>4</td>\n",
       "      <td>7.9</td>\n",
       "      <td>0.0096</td>\n",
       "      <td>-0.0025</td>\n",
       "    </tr>\n",
       "    <tr>\n",
       "      <th>6</th>\n",
       "      <td>5</td>\n",
       "      <td>9.8</td>\n",
       "      <td>0.0133</td>\n",
       "      <td>-0.0035</td>\n",
       "    </tr>\n",
       "    <tr>\n",
       "      <th>7</th>\n",
       "      <td>6</td>\n",
       "      <td>11.8</td>\n",
       "      <td>0.0163</td>\n",
       "      <td>-0.0042</td>\n",
       "    </tr>\n",
       "    <tr>\n",
       "      <th>8</th>\n",
       "      <td>7</td>\n",
       "      <td>13.8</td>\n",
       "      <td>0.0196</td>\n",
       "      <td>-0.0049</td>\n",
       "    </tr>\n",
       "    <tr>\n",
       "      <th>9</th>\n",
       "      <td>8</td>\n",
       "      <td>15.7</td>\n",
       "      <td>0.0226</td>\n",
       "      <td>-0.0058</td>\n",
       "    </tr>\n",
       "  </tbody>\n",
       "</table></div>"
      ],
      "text/plain": [
       "   No. Weight (kN) Stretch (mm) Shrink (mm)\n",
       "0  No.          荷重     伸び（引張方向）    縮み（垂直方向）\n",
       "1    －          KN           mm          mm\n",
       "2    1           2            0           0\n",
       "3    2           4       0.0043     -0.0012\n",
       "4    3         5.9       0.0066     -0.0018\n",
       "5    4         7.9       0.0096     -0.0025\n",
       "6    5         9.8       0.0133     -0.0035\n",
       "7    6        11.8       0.0163     -0.0042\n",
       "8    7        13.8       0.0196     -0.0049\n",
       "9    8        15.7       0.0226     -0.0058"
      ]
     },
     "execution_count": 4,
     "metadata": {},
     "output_type": "execute_result"
    }
   ],
   "source": [
    "df2.head(10) #最初の10つを確認"
   ]
  },
  {
   "cell_type": "code",
   "execution_count": 5,
   "id": "9a294bea-bc58-4692-b1e4-6c02964baefd",
   "metadata": {},
   "outputs": [
    {
     "data": {
      "text/html": [
       "<div><div id=b79b5ac0-8ad5-48cf-b3e7-9b41425e756b style=\"display:none; background-color:#9D6CFF; color:white; width:200px; height:30px; padding-left:5px; border-radius:4px; flex-direction:row; justify-content:space-around; align-items:center;\" onmouseover=\"this.style.backgroundColor='#BA9BF8'\" onmouseout=\"this.style.backgroundColor='#9D6CFF'\" onclick=\"window.commands?.execute('create-mitosheet-from-dataframe-output');\">See Full Dataframe in Mito</div> <script> if (window.commands.hasCommand('create-mitosheet-from-dataframe-output')) document.getElementById('b79b5ac0-8ad5-48cf-b3e7-9b41425e756b').style.display = 'flex' </script> <table border=\"1\" class=\"dataframe\">\n",
       "  <thead>\n",
       "    <tr style=\"text-align: right;\">\n",
       "      <th></th>\n",
       "      <th>Distance before (mm)</th>\n",
       "      <th>Diameter before (mm)</th>\n",
       "      <th>Distance after (mm)</th>\n",
       "      <th>Diameter after (mm)</th>\n",
       "    </tr>\n",
       "  </thead>\n",
       "  <tbody>\n",
       "    <tr>\n",
       "      <th>0</th>\n",
       "      <td>50.05</td>\n",
       "      <td>14.0</td>\n",
       "      <td>70.3</td>\n",
       "      <td>8.90</td>\n",
       "    </tr>\n",
       "    <tr>\n",
       "      <th>1</th>\n",
       "      <td>50.20</td>\n",
       "      <td>14.0</td>\n",
       "      <td>70.7</td>\n",
       "      <td>8.80</td>\n",
       "    </tr>\n",
       "    <tr>\n",
       "      <th>2</th>\n",
       "      <td>50.15</td>\n",
       "      <td>14.0</td>\n",
       "      <td>70.4</td>\n",
       "      <td>8.95</td>\n",
       "    </tr>\n",
       "  </tbody>\n",
       "</table></div>"
      ],
      "text/plain": [
       "   Distance before (mm)  Diameter before (mm)  Distance after (mm)  \\\n",
       "0                 50.05                  14.0                 70.3   \n",
       "1                 50.20                  14.0                 70.7   \n",
       "2                 50.15                  14.0                 70.4   \n",
       "\n",
       "   Diameter after (mm)  \n",
       "0                 8.90  \n",
       "1                 8.80  \n",
       "2                 8.95  "
      ]
     },
     "execution_count": 5,
     "metadata": {},
     "output_type": "execute_result"
    }
   ],
   "source": [
    "# 試験片のデータ\n",
    "shikenhen = df1.iloc[3:,1:].astype(float).reset_index(drop=True)\n",
    "shikenhen.rename(columns={1:\"Distance before (mm)\",2:\"Diameter before (mm)\",3:\"Distance after (mm)\",4:\"Diameter after (mm)\"},inplace=True)\n",
    "shikenhen"
   ]
  },
  {
   "cell_type": "code",
   "execution_count": 6,
   "id": "386dc64e-d87a-4c49-ac1d-580cfd34dba4",
   "metadata": {},
   "outputs": [],
   "source": [
    "# jiku = hippari[]"
   ]
  },
  {
   "cell_type": "code",
   "execution_count": 7,
   "id": "b9b85413-c369-4e7b-a26f-d5705a962d28",
   "metadata": {
    "tags": []
   },
   "outputs": [
    {
     "name": "stdout",
     "output_type": "stream",
     "text": [
      "     No.  Weight (kN)  Stretch (mm)  Shrink (mm)\n",
      "0    1.0          2.0        0.0000       0.0000\n",
      "1    2.0          4.0        0.0043      -0.0012\n",
      "2    3.0          5.9        0.0066      -0.0018\n",
      "3    4.0          7.9        0.0096      -0.0025\n",
      "4    5.0          9.8        0.0133      -0.0035\n",
      "5    6.0         11.8        0.0163      -0.0042\n",
      "6    7.0         13.8        0.0196      -0.0049\n",
      "7    8.0         15.7        0.0226      -0.0058\n",
      "8    9.0         17.7        0.0256      -0.0065\n",
      "9   10.0         19.6        0.0291      -0.0074\n",
      "10  11.0         21.6        0.0324      -0.0082\n",
      "11  12.0         23.6        0.0351      -0.0090\n",
      "12  13.0         25.5        0.0382      -0.0097\n",
      "13  14.0         27.5        0.0412      -0.0104\n",
      "14  15.0         29.4        0.0447      -0.0112\n",
      "15  16.0         33.4        0.0502      -0.0128\n",
      "16  17.0         37.3        0.0572      -0.0143\n",
      "17  18.0         41.2        0.0647      -0.0158\n",
      "18  19.0         45.1        0.0697      -0.0173\n",
      "19  20.0         43.8        1.5697       0.0000\n",
      "20  21.0         50.0        2.0697       0.0000\n",
      "21  22.0         52.2        2.5697       0.0000\n",
      "22  23.0         54.5        3.0697       0.0000\n",
      "23  24.0         56.5        3.5697       0.0000\n",
      "24  25.0         59.6        4.5697       0.0000\n",
      "25  26.0         62.3        5.5697       0.0000\n",
      "26  27.0         63.8        6.5697       0.0000\n",
      "27  28.0         65.3        7.5697       0.0000\n",
      "28  29.0         66.2        8.5697       0.0000\n",
      "29  30.0         67.1        9.5697       0.0000\n",
      "30  31.0         67.7       10.5697       0.0000\n",
      "31  32.0         68.0       11.5697       0.0000\n",
      "32  33.0         68.1       12.5697       0.0000\n",
      "33  34.0         68.2       13.5697       0.0000\n",
      "34  35.0         68.2       14.5697       0.0000\n",
      "35  36.0         68.1       15.5697       0.0000\n",
      "36  37.0         67.7       16.5697       0.0000\n",
      "37  38.0         67.1       17.5697       0.0000\n",
      "38  39.0         65.9       18.5697       0.0000\n",
      "39  40.0         63.9       19.5697       0.0000\n",
      "40  41.0         61.2       20.5697       0.0000\n",
      "41  42.0         57.6       21.5697       0.0000\n",
      "42  43.0         52.8       22.5697       0.0000\n"
     ]
    }
   ],
   "source": [
    "# 引張り試験のデータ\n",
    "hippari = df2[[\"No.\",\"Weight (kN)\",\"Stretch (mm)\",\"Shrink (mm)\"]].fillna(0).iloc[2:].astype(float).reset_index(drop=True)\n",
    "print(hippari)"
   ]
  },
  {
   "cell_type": "code",
   "execution_count": 8,
   "id": "bdf31fba-565e-43df-a2ce-d660ea79d0ad",
   "metadata": {
    "tags": []
   },
   "outputs": [],
   "source": [
    "# hippari.info()\n",
    "# hippari.describe()"
   ]
  },
  {
   "cell_type": "markdown",
   "id": "aad23524-d16d-42b1-b4a7-3712c0226f0f",
   "metadata": {
    "tags": []
   },
   "source": [
    "## 求める材料定数\n",
    "- ヤング率 E [GPa] = 〇\n",
    "- ポアソン比　ν = 〇\n",
    "- 引張強さ σ_max [MPa] = 〇\n",
    "- 上降伏応力 [MPa] =　〇\n",
    "- 下降伏応力 [MPa] =　〇\n",
    "- 全伸び　δ = 〇\n",
    "- 絞り φ　= 〇\n",
    "- 塑性係数 F [MPa] = 〇\n",
    "- 加工硬化指数 n = 〇"
   ]
  },
  {
   "cell_type": "code",
   "execution_count": 9,
   "id": "732a3a24-3e98-4675-9d3c-d604dc591095",
   "metadata": {},
   "outputs": [
    {
     "name": "stdout",
     "output_type": "stream",
     "text": [
      "試験前の標点間距離の平均は 50.1333 mm\n",
      "試験後の標点間距離の平均は 70.4667 mm\n"
     ]
    }
   ],
   "source": [
    "avg_distance_before = shikenhen[\"Distance before (mm)\"].mean()\n",
    "print(f'試験前の標点間距離の平均は {avg_distance_before.round(4)} mm')\n",
    "avg_distance_after = shikenhen[\"Distance after (mm)\"].mean()\n",
    "print(f'試験後の標点間距離の平均は {avg_distance_after.round(4)} mm')"
   ]
  },
  {
   "cell_type": "code",
   "execution_count": 10,
   "id": "d8086c2c-c9c7-4a14-bb57-dc27224d0218",
   "metadata": {},
   "outputs": [
    {
     "name": "stdout",
     "output_type": "stream",
     "text": [
      "試験前の外径の平均は 14.0 mm\n",
      "試験前の断面積は 153.938 mm^2\n"
     ]
    }
   ],
   "source": [
    "avg_diameter_before = shikenhen[\"Diameter before (mm)\"].mean(axis=0)\n",
    "print(f'試験前の外径の平均は {avg_diameter_before.round(4)} mm')\n",
    "area_before = (np.pi*(avg_diameter_before/2)**2).round(4)\n",
    "print(f'試験前の断面積は {area_before} mm^2')"
   ]
  },
  {
   "cell_type": "code",
   "execution_count": 11,
   "id": "ba9e9ce4-799a-4ab1-9265-01131a4387a1",
   "metadata": {},
   "outputs": [
    {
     "name": "stdout",
     "output_type": "stream",
     "text": [
      "試験前後外径の平均は 8.8833 mm\n",
      "試験後の断面積は 61.9786 mm^2\n"
     ]
    }
   ],
   "source": [
    "avg_diameter_after = shikenhen[\"Diameter after (mm)\"].mean(axis=0)\n",
    "print(f'試験前後外径の平均は {avg_diameter_after.round(4)} mm')\n",
    "area_after = (np.pi*(avg_diameter_after/2)**2).round(4)\n",
    "print(f'試験後の断面積は {area_after} mm^2')"
   ]
  },
  {
   "cell_type": "code",
   "execution_count": 12,
   "id": "4ee92056-52ac-4964-8e92-5bded5881c4e",
   "metadata": {},
   "outputs": [
    {
     "name": "stdout",
     "output_type": "stream",
     "text": [
      "最大荷重は 68.2 kN\n"
     ]
    }
   ],
   "source": [
    "P_max = hippari[\"Weight (kN)\"].max().round(2) #最大荷重\n",
    "print(f'最大荷重は {P_max} kN')"
   ]
  },
  {
   "cell_type": "code",
   "execution_count": 13,
   "id": "6c915bc9-deef-4026-b645-2bfaaebad6ae",
   "metadata": {},
   "outputs": [
    {
     "name": "stdout",
     "output_type": "stream",
     "text": [
      "引張強さ σ_max は 443.0355 MPa\n"
     ]
    }
   ],
   "source": [
    "sigma_max = P_max*10**3/area_before\n",
    "print(f'引張強さ σ_max は {sigma_max.round(4)} MPa')"
   ]
  },
  {
   "cell_type": "code",
   "execution_count": 14,
   "id": "6e7d61b7-de94-46f8-b454-5bcdca82465f",
   "metadata": {},
   "outputs": [
    {
     "name": "stdout",
     "output_type": "stream",
     "text": [
      "全伸び δ は 0.4056\n"
     ]
    }
   ],
   "source": [
    "zennobi = (avg_distance_after-avg_distance_before)/avg_distance_before\n",
    "print(f'全伸び δ は {zennobi.round(4)}')"
   ]
  },
  {
   "cell_type": "code",
   "execution_count": 15,
   "id": "45a815ed-6165-49ee-9534-ffb33eaa0e71",
   "metadata": {},
   "outputs": [
    {
     "name": "stdout",
     "output_type": "stream",
     "text": [
      "絞り φ は 0.5974\n"
     ]
    }
   ],
   "source": [
    "# 絞り\n",
    "shibori = (area_before-area_after)/area_before\n",
    "print(f'絞り φ は {shibori.round(4)}')"
   ]
  },
  {
   "cell_type": "code",
   "execution_count": 16,
   "id": "f4003284-f704-4d59-8763-54fdddc6ffd5",
   "metadata": {},
   "outputs": [],
   "source": [
    "# 公称応力、公称ひずみ、対数ひずみ、実応力を計算する\n",
    "hippari[\"Nominal Stress (MPa)\"] = (hippari[\"Weight (kN)\"]*1000/area_before).round(1) #公称応力\n",
    "hippari[\"Nominal Strain\"] = hippari[\"Stretch (mm)\"]*10**(-2) #公称ひずみ(軸方向) με\n",
    "hippari[\"Logarithmic Strain\"] = np.log(1+hippari[\"Nominal Strain\"]) #対数ひずみ\n",
    "hippari[\"True Stress (MPa)\"] = hippari[\"Nominal Stress (MPa)\"]*(1+hippari[\"Nominal Strain\"]) #実応力\n",
    "\n",
    "# 一様変形が開始したところから最大荷重点の一つ前までのデータを求める\n",
    "hippari2 = hippari.copy()\n",
    "hippari2 = hippari2.iloc[19:33].reset_index(drop=True)\n",
    "hippari2[\"Shrink (mm)\"].replace(0, pd.NA,inplace=True)\n",
    "hippari2.drop(columns=['Nominal Stress (MPa)','Nominal Strain'],inplace=True)\n",
    "\n",
    "# csvファイルに出力\n",
    "hippari.drop(columns=[\"Logarithmic Strain\",\"True Stress (MPa)\"],inplace=False).to_csv(\"hippari.csv\",index=False,float_format='%g')\n",
    "hippari2.to_csv(\"hippari2.csv\",index=False,float_format='%g')\n",
    "\n",
    "hippari[\"Nominal Strain 2\"]= hippari[\"Shrink (mm)\"]*10**(-2) #公称ひずみ(円周方向) με"
   ]
  },
  {
   "cell_type": "code",
   "execution_count": 17,
   "id": "5b4e297a-724f-48ce-bc94-fbb90b3ca79a",
   "metadata": {},
   "outputs": [
    {
     "name": "stdout",
     "output_type": "stream",
     "text": [
      "    Nominal Stress (MPa)  Nominal Strain\n",
      "0                   13.0        0.000000\n",
      "1                   26.0        0.000043\n",
      "2                   38.3        0.000066\n",
      "3                   51.3        0.000096\n",
      "4                   63.7        0.000133\n",
      "5                   76.7        0.000163\n",
      "6                   89.6        0.000196\n",
      "7                  102.0        0.000226\n",
      "8                  115.0        0.000256\n",
      "9                  127.3        0.000291\n",
      "10                 140.3        0.000324\n",
      "11                 153.3        0.000351\n",
      "12                 165.7        0.000382\n",
      "13                 178.6        0.000412\n",
      "14                 191.0        0.000447\n",
      "15                 217.0        0.000502\n",
      "16                 242.3        0.000572\n",
      "17                 267.6        0.000647\n",
      "18                 293.0        0.000697\n"
     ]
    }
   ],
   "source": [
    "jiku = hippari.iloc[:,[4,5]].iloc[:19,:]\n",
    "print(jiku)"
   ]
  },
  {
   "cell_type": "code",
   "execution_count": 18,
   "id": "de60e720-d6e4-4608-882d-8f071949a903",
   "metadata": {},
   "outputs": [
    {
     "name": "stdout",
     "output_type": "stream",
     "text": [
      "    Nominal Stress (MPa)  Nominal Strain 2\n",
      "0                   13.0          0.000000\n",
      "1                   26.0          0.000012\n",
      "2                   38.3          0.000018\n",
      "3                   51.3          0.000025\n",
      "4                   63.7          0.000035\n",
      "5                   76.7          0.000042\n",
      "6                   89.6          0.000049\n",
      "7                  102.0          0.000058\n",
      "8                  115.0          0.000065\n",
      "9                  127.3          0.000074\n",
      "10                 140.3          0.000082\n",
      "11                 153.3          0.000090\n",
      "12                 165.7          0.000097\n",
      "13                 178.6          0.000104\n",
      "14                 191.0          0.000112\n",
      "15                 217.0          0.000128\n",
      "16                 242.3          0.000143\n",
      "17                 267.6          0.000158\n",
      "18                 293.0          0.000173\n"
     ]
    }
   ],
   "source": [
    "enshu = hippari.iloc[:19,[4,8]].abs()\n",
    "print(enshu)"
   ]
  },
  {
   "cell_type": "code",
   "execution_count": 19,
   "id": "8000926f-f072-425f-8943-f5044fab696e",
   "metadata": {},
   "outputs": [
    {
     "data": {
      "text/html": [
       "<div><div id=e6a9ea1f-8834-4612-9564-7ab77f3e2ec5 style=\"display:none; background-color:#9D6CFF; color:white; width:200px; height:30px; padding-left:5px; border-radius:4px; flex-direction:row; justify-content:space-around; align-items:center;\" onmouseover=\"this.style.backgroundColor='#BA9BF8'\" onmouseout=\"this.style.backgroundColor='#9D6CFF'\" onclick=\"window.commands?.execute('create-mitosheet-from-dataframe-output');\">See Full Dataframe in Mito</div> <script> if (window.commands.hasCommand('create-mitosheet-from-dataframe-output')) document.getElementById('e6a9ea1f-8834-4612-9564-7ab77f3e2ec5').style.display = 'flex' </script> <table border=\"1\" class=\"dataframe\">\n",
       "  <thead>\n",
       "    <tr style=\"text-align: right;\">\n",
       "      <th></th>\n",
       "      <th>公称応力 (円周方向)</th>\n",
       "      <th>公称ひずみ (軸方向)</th>\n",
       "      <th>公称応力 (円周方向)</th>\n",
       "      <th>公称ひずみ (円周方向)</th>\n",
       "    </tr>\n",
       "  </thead>\n",
       "  <tbody>\n",
       "    <tr>\n",
       "      <th>0</th>\n",
       "      <td>13.0</td>\n",
       "      <td>0.000000</td>\n",
       "      <td>13.0</td>\n",
       "      <td>0.000000</td>\n",
       "    </tr>\n",
       "    <tr>\n",
       "      <th>1</th>\n",
       "      <td>26.0</td>\n",
       "      <td>0.000043</td>\n",
       "      <td>26.0</td>\n",
       "      <td>0.000012</td>\n",
       "    </tr>\n",
       "    <tr>\n",
       "      <th>2</th>\n",
       "      <td>38.3</td>\n",
       "      <td>0.000066</td>\n",
       "      <td>38.3</td>\n",
       "      <td>0.000018</td>\n",
       "    </tr>\n",
       "    <tr>\n",
       "      <th>3</th>\n",
       "      <td>51.3</td>\n",
       "      <td>0.000096</td>\n",
       "      <td>51.3</td>\n",
       "      <td>0.000025</td>\n",
       "    </tr>\n",
       "    <tr>\n",
       "      <th>4</th>\n",
       "      <td>63.7</td>\n",
       "      <td>0.000133</td>\n",
       "      <td>63.7</td>\n",
       "      <td>0.000035</td>\n",
       "    </tr>\n",
       "    <tr>\n",
       "      <th>...</th>\n",
       "      <td>...</td>\n",
       "      <td>...</td>\n",
       "      <td>...</td>\n",
       "      <td>...</td>\n",
       "    </tr>\n",
       "    <tr>\n",
       "      <th>14</th>\n",
       "      <td>191.0</td>\n",
       "      <td>0.000447</td>\n",
       "      <td>191.0</td>\n",
       "      <td>0.000112</td>\n",
       "    </tr>\n",
       "    <tr>\n",
       "      <th>15</th>\n",
       "      <td>217.0</td>\n",
       "      <td>0.000502</td>\n",
       "      <td>217.0</td>\n",
       "      <td>0.000128</td>\n",
       "    </tr>\n",
       "    <tr>\n",
       "      <th>16</th>\n",
       "      <td>242.3</td>\n",
       "      <td>0.000572</td>\n",
       "      <td>242.3</td>\n",
       "      <td>0.000143</td>\n",
       "    </tr>\n",
       "    <tr>\n",
       "      <th>17</th>\n",
       "      <td>267.6</td>\n",
       "      <td>0.000647</td>\n",
       "      <td>267.6</td>\n",
       "      <td>0.000158</td>\n",
       "    </tr>\n",
       "    <tr>\n",
       "      <th>18</th>\n",
       "      <td>293.0</td>\n",
       "      <td>0.000697</td>\n",
       "      <td>293.0</td>\n",
       "      <td>0.000173</td>\n",
       "    </tr>\n",
       "  </tbody>\n",
       "</table></div>"
      ],
      "text/plain": [
       "    公称応力 (円周方向)  公称ひずみ (軸方向)  公称応力 (円周方向)  公称ひずみ (円周方向)\n",
       "0          13.0     0.000000         13.0      0.000000\n",
       "1          26.0     0.000043         26.0      0.000012\n",
       "2          38.3     0.000066         38.3      0.000018\n",
       "3          51.3     0.000096         51.3      0.000025\n",
       "4          63.7     0.000133         63.7      0.000035\n",
       "5          76.7     0.000163         76.7      0.000042\n",
       "6          89.6     0.000196         89.6      0.000049\n",
       "7         102.0     0.000226        102.0      0.000058\n",
       "8         115.0     0.000256        115.0      0.000065\n",
       "9         127.3     0.000291        127.3      0.000074\n",
       "10        140.3     0.000324        140.3      0.000082\n",
       "11        153.3     0.000351        153.3      0.000090\n",
       "12        165.7     0.000382        165.7      0.000097\n",
       "13        178.6     0.000412        178.6      0.000104\n",
       "14        191.0     0.000447        191.0      0.000112\n",
       "15        217.0     0.000502        217.0      0.000128\n",
       "16        242.3     0.000572        242.3      0.000143\n",
       "17        267.6     0.000647        267.6      0.000158\n",
       "18        293.0     0.000697        293.0      0.000173"
      ]
     },
     "execution_count": 19,
     "metadata": {},
     "output_type": "execute_result"
    }
   ],
   "source": [
    "df3 = [jiku,enshu]\n",
    "jiku_enshuu = pd.concat(df3,axis=1)\n",
    "jiku_enshuu.rename(columns={\"Nominal Stress (MPa)\":\"公称応力 (軸方向)\",\"Nominal Strain\":\"公称ひずみ (軸方向)\",\"Nominal Stress (MPa)\":\"公称応力 (円周方向)\",\"Nominal Strain 2\":\"公称ひずみ (円周方向)\"},inplace=True)\n",
    "jiku_enshuu.to_csv(\"hippari3.csv\",index=False,float_format='%g')\n",
    "jiku_enshuu"
   ]
  },
  {
   "cell_type": "code",
   "execution_count": 32,
   "id": "0974c594-96b3-446d-8d5e-81f65d0ecf4f",
   "metadata": {},
   "outputs": [
    {
     "data": {
      "image/png": "[encoded data removed]",
      "text/plain": [
       "<Figure size 432x288 with 1 Axes>"
      ]
     },
     "metadata": {
      "needs_background": "light"
     },
     "output_type": "display_data"
    }
   ],
   "source": [
    "plt.title('弾性域における公称応力ー公称ひずみ線図',fontsize=16,pad=18)\n",
    "\n",
    "#obtain m (slope) and b(intercept) of linear regression line (最小二乗法)\n",
    "m, b = np.polyfit(jiku[\"Nominal Strain\"], jiku[\"Nominal Stress (MPa)\"], 1)\n",
    "plt.plot(jiku[\"Nominal Strain\"], m*jiku[\"Nominal Strain\"]+b,\"--\",linewidth=0.5)\n",
    "plt.scatter(jiku[\"Nominal Strain\"],jiku[\"Nominal Stress (MPa)\"],label = \"軸方向\",marker= \".\")\n",
    "\n",
    "m2, b2 = np.polyfit(enshu[\"Nominal Strain 2\"], enshu[\"Nominal Stress (MPa)\"], 1)\n",
    "plt.plot(enshu[\"Nominal Strain 2\"], m2*enshu[\"Nominal Strain 2\"]+b2,\"--\",linewidth=0.5)\n",
    "plt.scatter(enshu[\"Nominal Strain 2\"],enshu[\"Nominal Stress (MPa)\"],label = \"円周方向\",marker= \".\")\n",
    "\n",
    "plt.xlabel('ひずみ ε_N [-]', fontsize=12)\n",
    "plt.ylabel('応力 σ_N [MPa]', fontsize=12)\n",
    "plt.ticklabel_format(axis=\"x\", style=\"sci\", scilimits=(0,0))\n",
    "plt.grid()\n",
    "plt.legend(bbox_to_anchor=(1.05, 1.0), loc='upper left')\n",
    "plt.tight_layout()\n",
    "plt.show()"
   ]
  },
  {
   "cell_type": "code",
   "execution_count": 21,
   "id": "3000e33e-8101-4260-91f2-14a0ea1b2b92",
   "metadata": {},
   "outputs": [
    {
     "name": "stdout",
     "output_type": "stream",
     "text": [
      "(軸方向)   傾き = 402793 MPa, 切片 = 11.26 MPa\n",
      "(円周方向)  傾き = 1632022 MPa, 切片 = 8.46 MPa\n",
      "ヤング率　E = 402.793 GPa\n",
      "ポアソン比　ν = 0.247\n"
     ]
    }
   ],
   "source": [
    "print(f'(軸方向)   傾き = {int(m.round(0))} MPa, 切片 = {b.round(2)} MPa')\n",
    "print(f'(円周方向)  傾き = {int(m2.round(0))} MPa, 切片 = {b2.round(2)} MPa')\n",
    "print(f'ヤング率　E = {int(m.round(0))*10**(-3)} GPa')\n",
    "print(f'ポアソン比　ν = {(m/m2).round(3)}')"
   ]
  },
  {
   "cell_type": "code",
   "execution_count": 22,
   "id": "7f1422e0-d5fe-44b0-902e-dd0ea48d339f",
   "metadata": {
    "tags": []
   },
   "outputs": [
    {
     "name": "stdout",
     "output_type": "stream",
     "text": [
      "     No.  Weight (kN)  Stretch (mm)  Shrink (mm)  Nominal Stress (MPa)  \\\n",
      "0    1.0          2.0        0.0000       0.0000                  13.0   \n",
      "1    2.0          4.0        0.0043      -0.0012                  26.0   \n",
      "2    3.0          5.9        0.0066      -0.0018                  38.3   \n",
      "3    4.0          7.9        0.0096      -0.0025                  51.3   \n",
      "4    5.0          9.8        0.0133      -0.0035                  63.7   \n",
      "5    6.0         11.8        0.0163      -0.0042                  76.7   \n",
      "6    7.0         13.8        0.0196      -0.0049                  89.6   \n",
      "7    8.0         15.7        0.0226      -0.0058                 102.0   \n",
      "8    9.0         17.7        0.0256      -0.0065                 115.0   \n",
      "9   10.0         19.6        0.0291      -0.0074                 127.3   \n",
      "10  11.0         21.6        0.0324      -0.0082                 140.3   \n",
      "11  12.0         23.6        0.0351      -0.0090                 153.3   \n",
      "12  13.0         25.5        0.0382      -0.0097                 165.7   \n",
      "13  14.0         27.5        0.0412      -0.0104                 178.6   \n",
      "14  15.0         29.4        0.0447      -0.0112                 191.0   \n",
      "15  16.0         33.4        0.0502      -0.0128                 217.0   \n",
      "16  17.0         37.3        0.0572      -0.0143                 242.3   \n",
      "17  18.0         41.2        0.0647      -0.0158                 267.6   \n",
      "18  19.0         45.1        0.0697      -0.0173                 293.0   \n",
      "19  20.0         43.8        1.5697       0.0000                 284.5   \n",
      "20  21.0         50.0        2.0697       0.0000                 324.8   \n",
      "21  22.0         52.2        2.5697       0.0000                 339.1   \n",
      "22  23.0         54.5        3.0697       0.0000                 354.0   \n",
      "23  24.0         56.5        3.5697       0.0000                 367.0   \n",
      "24  25.0         59.6        4.5697       0.0000                 387.2   \n",
      "25  26.0         62.3        5.5697       0.0000                 404.7   \n",
      "26  27.0         63.8        6.5697       0.0000                 414.5   \n",
      "27  28.0         65.3        7.5697       0.0000                 424.2   \n",
      "28  29.0         66.2        8.5697       0.0000                 430.0   \n",
      "29  30.0         67.1        9.5697       0.0000                 435.9   \n",
      "30  31.0         67.7       10.5697       0.0000                 439.8   \n",
      "31  32.0         68.0       11.5697       0.0000                 441.7   \n",
      "32  33.0         68.1       12.5697       0.0000                 442.4   \n",
      "33  34.0         68.2       13.5697       0.0000                 443.0   \n",
      "34  35.0         68.2       14.5697       0.0000                 443.0   \n",
      "35  36.0         68.1       15.5697       0.0000                 442.4   \n",
      "36  37.0         67.7       16.5697       0.0000                 439.8   \n",
      "37  38.0         67.1       17.5697       0.0000                 435.9   \n",
      "38  39.0         65.9       18.5697       0.0000                 428.1   \n",
      "39  40.0         63.9       19.5697       0.0000                 415.1   \n",
      "40  41.0         61.2       20.5697       0.0000                 397.6   \n",
      "41  42.0         57.6       21.5697       0.0000                 374.2   \n",
      "42  43.0         52.8       22.5697       0.0000                 343.0   \n",
      "\n",
      "    Nominal Strain  Logarithmic Strain  True Stress (MPa)  Nominal Strain 2  \n",
      "0         0.000000            0.000000          13.000000          0.000000  \n",
      "1         0.000043            0.000043          26.001118         -0.000012  \n",
      "2         0.000066            0.000066          38.302528         -0.000018  \n",
      "3         0.000096            0.000096          51.304925         -0.000025  \n",
      "4         0.000133            0.000133          63.708472         -0.000035  \n",
      "5         0.000163            0.000163          76.712502         -0.000042  \n",
      "6         0.000196            0.000196          89.617562         -0.000049  \n",
      "7         0.000226            0.000226         102.023052         -0.000058  \n",
      "8         0.000256            0.000256         115.029440         -0.000065  \n",
      "9         0.000291            0.000291         127.337044         -0.000074  \n",
      "10        0.000324            0.000324         140.345457         -0.000082  \n",
      "11        0.000351            0.000351         153.353808         -0.000090  \n",
      "12        0.000382            0.000382         165.763297         -0.000097  \n",
      "13        0.000412            0.000412         178.673583         -0.000104  \n",
      "14        0.000447            0.000447         191.085377         -0.000112  \n",
      "15        0.000502            0.000502         217.108934         -0.000128  \n",
      "16        0.000572            0.000572         242.438596         -0.000143  \n",
      "17        0.000647            0.000647         267.773137         -0.000158  \n",
      "18        0.000697            0.000697         293.204221         -0.000173  \n",
      "19        0.015697            0.015575         288.965797          0.000000  \n",
      "20        0.020697            0.020486         331.522386          0.000000  \n",
      "21        0.025697            0.025372         347.813853          0.000000  \n",
      "22        0.030697            0.030235         364.866738          0.000000  \n",
      "23        0.035697            0.035075         380.100799          0.000000  \n",
      "24        0.045697            0.044684         404.893878          0.000000  \n",
      "25        0.055697            0.054201         427.240576          0.000000  \n",
      "26        0.065697            0.063629         441.731407          0.000000  \n",
      "27        0.075697            0.072969         456.310667          0.000000  \n",
      "28        0.085697            0.082222         466.849710          0.000000  \n",
      "29        0.095697            0.091391         477.614322          0.000000  \n",
      "30        0.105697            0.100476         486.285541          0.000000  \n",
      "31        0.115697            0.109479         492.803365          0.000000  \n",
      "32        0.125697            0.118402         498.008353          0.000000  \n",
      "33        0.135697            0.127247         503.113771          0.000000  \n",
      "34        0.145697            0.136013         507.543771          0.000000  \n",
      "35        0.155697            0.144704         511.280353          0.000000  \n",
      "36        0.165697            0.153319         512.673541          0.000000  \n",
      "37        0.175697            0.161861         512.486322          0.000000  \n",
      "38        0.185697            0.170331         507.596886          0.000000  \n",
      "39        0.195697            0.178729         496.333825          0.000000  \n",
      "40        0.205697            0.187058         479.385127          0.000000  \n",
      "41        0.215697            0.195318         454.913817          0.000000  \n",
      "42        0.225697            0.203510         420.414071          0.000000  \n"
     ]
    }
   ],
   "source": [
    "print(hippari)"
   ]
  },
  {
   "cell_type": "code",
   "execution_count": 23,
   "id": "b8b063bf-64f5-4510-bfb9-c70ea19dd054",
   "metadata": {
    "tags": []
   },
   "outputs": [
    {
     "name": "stdout",
     "output_type": "stream",
     "text": [
      "最大荷重は 68.2 kN\n",
      "\n",
      "     No.  Weight (kN)  Stretch (mm) Shrink (mm)  Logarithmic Strain  \\\n",
      "0   20.0         43.8        1.5697        <NA>            0.015575   \n",
      "1   21.0         50.0        2.0697        <NA>            0.020486   \n",
      "2   22.0         52.2        2.5697        <NA>            0.025372   \n",
      "3   23.0         54.5        3.0697        <NA>            0.030235   \n",
      "4   24.0         56.5        3.5697        <NA>            0.035075   \n",
      "5   25.0         59.6        4.5697        <NA>            0.044684   \n",
      "6   26.0         62.3        5.5697        <NA>            0.054201   \n",
      "7   27.0         63.8        6.5697        <NA>            0.063629   \n",
      "8   28.0         65.3        7.5697        <NA>            0.072969   \n",
      "9   29.0         66.2        8.5697        <NA>            0.082222   \n",
      "10  30.0         67.1        9.5697        <NA>            0.091391   \n",
      "11  31.0         67.7       10.5697        <NA>            0.100476   \n",
      "12  32.0         68.0       11.5697        <NA>            0.109479   \n",
      "13  33.0         68.1       12.5697        <NA>            0.118402   \n",
      "\n",
      "    True Stress (MPa)  \n",
      "0          288.965797  \n",
      "1          331.522386  \n",
      "2          347.813853  \n",
      "3          364.866738  \n",
      "4          380.100799  \n",
      "5          404.893878  \n",
      "6          427.240576  \n",
      "7          441.731407  \n",
      "8          456.310667  \n",
      "9          466.849710  \n",
      "10         477.614322  \n",
      "11         486.285541  \n",
      "12         492.803365  \n",
      "13         498.008353  \n"
     ]
    }
   ],
   "source": [
    "print(f'最大荷重は {P_max} kN\\n')\n",
    "\n",
    "print(hippari2)"
   ]
  },
  {
   "cell_type": "code",
   "execution_count": 24,
   "id": "2a6a3699-11f5-4aad-b799-6a9cbd12dfc3",
   "metadata": {
    "tags": []
   },
   "outputs": [
    {
     "name": "stdout",
     "output_type": "stream",
     "text": [
      "上降伏応力 δ_upper は 293.0 MPa\n",
      "下降伏応力 δ_lower は 284.5 MPa\n"
     ]
    }
   ],
   "source": [
    "print(f'上降伏応力 δ_upper は 293.0 MPa')\n",
    "print(f'下降伏応力 δ_lower は 284.5 MPa')"
   ]
  },
  {
   "cell_type": "code",
   "execution_count": 25,
   "id": "42d198e3-c820-4ecc-9cb8-3580da987bd3",
   "metadata": {},
   "outputs": [
    {
     "data": {
      "image/png": "[encoded data removed]",
      "text/plain": [
       "<Figure size 864x432 with 2 Axes>"
      ]
     },
     "metadata": {
      "needs_background": "light"
     },
     "output_type": "display_data"
    }
   ],
   "source": [
    "x1=hippari[\"Nominal Strain\"] \n",
    "y1=hippari[\"Nominal Stress (MPa)\"] \n",
    "x2=hippari2[\"Logarithmic Strain\"]\n",
    "y2=hippari2[\"True Stress (MPa)\"]\n",
    "plt.figure(figsize=(12,6))\n",
    "\n",
    "# plot for engineering stress- engineering strain diagram\n",
    "plt.subplot(1,2,1)\n",
    "plt.plot(x1,y1,linewidth=2.5)\n",
    "plt.fill_between(x1,y1,color='green',hatch='||',alpha=0.15)\n",
    "plt.title(\"公称応力ー公称ひずみ\",fontsize=20)\n",
    "plt.xlabel(r'公称ひずみ $ε_N$ [-]', fontsize=16)\n",
    "plt.ylabel(r'公称応力 $σ_N$ [MPa]', fontsize=16)\n",
    "plt.grid()\n",
    "\n",
    "# plot for true stress- logarithmic strain diagram\n",
    "plt.tight_layout(pad = 7.0)\n",
    "plt.subplot(1,2,2)\n",
    "plt.plot(x2,y2,'red',linewidth=2.5)\n",
    "plt.fill_between(x2,y2,color='yellow',hatch='\\\\',alpha=0.15)\n",
    "plt.title('実応力ー対数ひずみ',fontsize=20)\n",
    "plt.xlabel('対数ひずみ ε [-]', fontsize=16)\n",
    "plt.ylabel('実応力 σ [MPa]', fontsize=16)\n",
    "plt.grid()\n",
    "plt.savefig(\"stress-strain_diagram.jpg\", dpi=300)\n",
    "plt.show()"
   ]
  },
  {
   "cell_type": "code",
   "execution_count": 34,
   "id": "809d0404-afcd-42d6-8e2b-211e8ea5c532",
   "metadata": {},
   "outputs": [
    {
     "data": {
      "image/png": "[encoded data removed]",
      "text/plain": [
       "<Figure size 432x288 with 1 Axes>"
      ]
     },
     "metadata": {
      "needs_background": "light"
     },
     "output_type": "display_data"
    }
   ],
   "source": [
    "plt.title('塑性曲線　(公称応力ー公称ひずみ、実応力ー対数ひずみ線図)',fontsize=16,pad=18)\n",
    "plt.scatter(x1,y1,marker = \".\")\n",
    "plt.plot(x1,y1,label = \"公称応力ー公称ひずみ\")\n",
    "plt.scatter(x2,y2, marker = \".\")\n",
    "plt.plot(x2,y2,label = \"実応力ー対数ひずみ\",color= \"red\")\n",
    "\n",
    "plt.xlabel(r'ひずみ $ε_N$ , ε [-]', fontsize=12)\n",
    "plt.ylabel(r'応力 $σ_N$ , σ [MPa]', fontsize=12)\n",
    "plt.grid()\n",
    "plt.legend(bbox_to_anchor=(1.05, 1.0), loc='upper left')\n",
    "plt.tight_layout()\n",
    "plt.show()"
   ]
  },
  {
   "cell_type": "code",
   "execution_count": 27,
   "id": "46f0ff25-6ebd-4fd4-90b7-04c2128c5170",
   "metadata": {},
   "outputs": [
    {
     "data": {
      "text/html": [
       "<div><div id=5caf93c2-6b67-436e-a575-17f74c041561 style=\"display:none; background-color:#9D6CFF; color:white; width:200px; height:30px; padding-left:5px; border-radius:4px; flex-direction:row; justify-content:space-around; align-items:center;\" onmouseover=\"this.style.backgroundColor='#BA9BF8'\" onmouseout=\"this.style.backgroundColor='#9D6CFF'\" onclick=\"window.commands?.execute('create-mitosheet-from-dataframe-output');\">See Full Dataframe in Mito</div> <script> if (window.commands.hasCommand('create-mitosheet-from-dataframe-output')) document.getElementById('5caf93c2-6b67-436e-a575-17f74c041561').style.display = 'flex' </script> <table border=\"1\" class=\"dataframe\">\n",
       "  <thead>\n",
       "    <tr style=\"text-align: right;\">\n",
       "      <th></th>\n",
       "      <th>No.</th>\n",
       "      <th>Weight (kN)</th>\n",
       "      <th>Stretch (mm)</th>\n",
       "      <th>Shrink (mm)</th>\n",
       "      <th>Logarithmic Strain</th>\n",
       "      <th>True Stress (MPa)</th>\n",
       "    </tr>\n",
       "  </thead>\n",
       "  <tbody>\n",
       "    <tr>\n",
       "      <th>0</th>\n",
       "      <td>20.0</td>\n",
       "      <td>43.8</td>\n",
       "      <td>1.5697</td>\n",
       "      <td>&lt;NA&gt;</td>\n",
       "      <td>0.015575</td>\n",
       "      <td>288.965797</td>\n",
       "    </tr>\n",
       "    <tr>\n",
       "      <th>1</th>\n",
       "      <td>21.0</td>\n",
       "      <td>50.0</td>\n",
       "      <td>2.0697</td>\n",
       "      <td>&lt;NA&gt;</td>\n",
       "      <td>0.020486</td>\n",
       "      <td>331.522386</td>\n",
       "    </tr>\n",
       "    <tr>\n",
       "      <th>2</th>\n",
       "      <td>22.0</td>\n",
       "      <td>52.2</td>\n",
       "      <td>2.5697</td>\n",
       "      <td>&lt;NA&gt;</td>\n",
       "      <td>0.025372</td>\n",
       "      <td>347.813853</td>\n",
       "    </tr>\n",
       "    <tr>\n",
       "      <th>3</th>\n",
       "      <td>23.0</td>\n",
       "      <td>54.5</td>\n",
       "      <td>3.0697</td>\n",
       "      <td>&lt;NA&gt;</td>\n",
       "      <td>0.030235</td>\n",
       "      <td>364.866738</td>\n",
       "    </tr>\n",
       "    <tr>\n",
       "      <th>4</th>\n",
       "      <td>24.0</td>\n",
       "      <td>56.5</td>\n",
       "      <td>3.5697</td>\n",
       "      <td>&lt;NA&gt;</td>\n",
       "      <td>0.035075</td>\n",
       "      <td>380.100799</td>\n",
       "    </tr>\n",
       "    <tr>\n",
       "      <th>...</th>\n",
       "      <td>...</td>\n",
       "      <td>...</td>\n",
       "      <td>...</td>\n",
       "      <td>...</td>\n",
       "      <td>...</td>\n",
       "      <td>...</td>\n",
       "    </tr>\n",
       "    <tr>\n",
       "      <th>9</th>\n",
       "      <td>29.0</td>\n",
       "      <td>66.2</td>\n",
       "      <td>8.5697</td>\n",
       "      <td>&lt;NA&gt;</td>\n",
       "      <td>0.082222</td>\n",
       "      <td>466.849710</td>\n",
       "    </tr>\n",
       "    <tr>\n",
       "      <th>10</th>\n",
       "      <td>30.0</td>\n",
       "      <td>67.1</td>\n",
       "      <td>9.5697</td>\n",
       "      <td>&lt;NA&gt;</td>\n",
       "      <td>0.091391</td>\n",
       "      <td>477.614322</td>\n",
       "    </tr>\n",
       "    <tr>\n",
       "      <th>11</th>\n",
       "      <td>31.0</td>\n",
       "      <td>67.7</td>\n",
       "      <td>10.5697</td>\n",
       "      <td>&lt;NA&gt;</td>\n",
       "      <td>0.100476</td>\n",
       "      <td>486.285541</td>\n",
       "    </tr>\n",
       "    <tr>\n",
       "      <th>12</th>\n",
       "      <td>32.0</td>\n",
       "      <td>68.0</td>\n",
       "      <td>11.5697</td>\n",
       "      <td>&lt;NA&gt;</td>\n",
       "      <td>0.109479</td>\n",
       "      <td>492.803365</td>\n",
       "    </tr>\n",
       "    <tr>\n",
       "      <th>13</th>\n",
       "      <td>33.0</td>\n",
       "      <td>68.1</td>\n",
       "      <td>12.5697</td>\n",
       "      <td>&lt;NA&gt;</td>\n",
       "      <td>0.118402</td>\n",
       "      <td>498.008353</td>\n",
       "    </tr>\n",
       "  </tbody>\n",
       "</table></div>"
      ],
      "text/plain": [
       "     No.  Weight (kN)  Stretch (mm) Shrink (mm)  Logarithmic Strain  \\\n",
       "0   20.0         43.8        1.5697        <NA>            0.015575   \n",
       "1   21.0         50.0        2.0697        <NA>            0.020486   \n",
       "2   22.0         52.2        2.5697        <NA>            0.025372   \n",
       "3   23.0         54.5        3.0697        <NA>            0.030235   \n",
       "4   24.0         56.5        3.5697        <NA>            0.035075   \n",
       "5   25.0         59.6        4.5697        <NA>            0.044684   \n",
       "6   26.0         62.3        5.5697        <NA>            0.054201   \n",
       "7   27.0         63.8        6.5697        <NA>            0.063629   \n",
       "8   28.0         65.3        7.5697        <NA>            0.072969   \n",
       "9   29.0         66.2        8.5697        <NA>            0.082222   \n",
       "10  30.0         67.1        9.5697        <NA>            0.091391   \n",
       "11  31.0         67.7       10.5697        <NA>            0.100476   \n",
       "12  32.0         68.0       11.5697        <NA>            0.109479   \n",
       "13  33.0         68.1       12.5697        <NA>            0.118402   \n",
       "\n",
       "    True Stress (MPa)  \n",
       "0          288.965797  \n",
       "1          331.522386  \n",
       "2          347.813853  \n",
       "3          364.866738  \n",
       "4          380.100799  \n",
       "5          404.893878  \n",
       "6          427.240576  \n",
       "7          441.731407  \n",
       "8          456.310667  \n",
       "9          466.849710  \n",
       "10         477.614322  \n",
       "11         486.285541  \n",
       "12         492.803365  \n",
       "13         498.008353  "
      ]
     },
     "execution_count": 27,
     "metadata": {},
     "output_type": "execute_result"
    }
   ],
   "source": [
    "hippari2"
   ]
  },
  {
   "cell_type": "code",
   "execution_count": 28,
   "id": "43b656a7-63b2-4a9a-b0e0-0186c7885b71",
   "metadata": {},
   "outputs": [
    {
     "data": {
      "image/png": "[encoded data removed]",
      "text/plain": [
       "<Figure size 432x288 with 1 Axes>"
      ]
     },
     "metadata": {
      "needs_background": "light"
     },
     "output_type": "display_data"
    },
    {
     "name": "stdout",
     "output_type": "stream",
     "text": [
      "\n",
      "傾き = 0.255 , 切片 = 2.945\n",
      "\n",
      "log10 F = 2.945,  ∴ F = 881 MPa\n",
      "\n",
      "∴ n = 0.255\n"
     ]
    }
   ],
   "source": [
    "plt.title('Fとnの導出（最小二乗法用）',fontsize=16,pad=18)\n",
    "\n",
    "#obtain m (slope) and b(intercept) of linear regression line\n",
    "m3, b3 = np.polyfit(np.log10(hippari2[\"Logarithmic Strain\"]), np.log10(hippari2[\"True Stress (MPa)\"]), 1)\n",
    "plt.plot(np.log10(hippari2[\"Logarithmic Strain\"]), m3*np.log10(hippari2[\"Logarithmic Strain\"])+b3,\"--\",linewidth =0.5)\n",
    "plt.scatter(np.log10(hippari2[\"Logarithmic Strain\"]),np.log10(hippari2[\"True Stress (MPa)\"])\n",
    "            ,label = \"実応力ー対数ひずみ\",marker = \".\")\n",
    "plt.xlabel(r'$log_{10}$ ひずみ ε [-]', fontsize=12)\n",
    "plt.ylabel(r'$log_{10}$ 応力 σ [MPa]', fontsize=12)\n",
    "plt.grid()\n",
    "plt.legend(bbox_to_anchor=(1.05, 1.0), loc='upper left')\n",
    "plt.tight_layout()\n",
    "plt.show()\n",
    "\n",
    "print(f'\\n傾き = {m3.round(3)} , 切片 = {b3.round(3)}')\n",
    "print(f'\\nlog10 F = {b3.round(3)},  ∴ F = {int(10**(b3.round(3)))} MPa')\n",
    "print(f'\\n∴ n = {m3.round(3)}')"
   ]
  },
  {
   "cell_type": "markdown",
   "id": "577019d0-975c-4432-bacb-41b1de139efc",
   "metadata": {},
   "source": [
    "|   <!-- -->        |               <!-- -->                                          |\n",
    "| ----------------- | ------------------------------------------------------------------ |\n",
    "| ヤング率 E [GPa] | 402.793 |\n",
    "| ポアソン比　ν | 0.247 |\n",
    "| 引張強さ σ_max [MPa] | 443.036 |\n",
    "| 上降伏応力 [MPa] | 293.0 |\n",
    "| 下降伏応力 [MPa] | 284.5 |\n",
    "| 全伸び　δ | 0.4056 |\n",
    "| 絞り φ | 0.5974 |\n",
    "| 塑性係数 F [MPa] | 881 |\n",
    "| 加工硬化指数 n | 0.255 |\n",
    "\n",
    "\n",
    "## 求める材料定数\n",
    "- ヤング率 E [GPa] = 〇\n",
    "- ポアソン比　ν = 〇\n",
    "- 引張強さ σ_max [MPa] = 〇\n",
    "- 上降伏応力 [MPa] =　〇\n",
    "- 下降伏応力 [MPa] =　〇\n",
    "- 全伸び　δ = 〇\n",
    "- 絞り φ　= 〇\n",
    "- 塑性係数 F [MPa] = 〇\n",
    "- 加工硬化指数 n = 〇"
   ]
  },
  {
   "cell_type": "markdown",
   "id": "b6e0148a-0a7b-416c-a8ac-c29f23f3044d",
   "metadata": {
    "tags": []
   },
   "source": [
    "# Compiled codes"
   ]
  },
  {
   "cell_type": "code",
   "execution_count": 29,
   "id": "771bbe00-f5b6-4ada-986b-6fa3f68e35d5",
   "metadata": {},
   "outputs": [],
   "source": [
    "# import pandas as pd\n",
    "# import numpy as np\n",
    "# import matplotlib.pyplot as plt\n",
    "# import japanize_matplotlib  # 日本語の表示\n",
    "\n",
    "# data = pd.read_excel(r'C:\\Users\\User\\Desktop\\practice.xlsx', header=None)\n",
    "# df1 = data.iloc[0:6, 0:5].fillna('-')\n",
    "# df2 = data.iloc[8:, 0:4].reset_index(drop=True)\n",
    "# df2.rename(columns={0: \"no\", 1: \"weight_kN\",\n",
    "#            2: \"stretch_mm\", 3: \"shrink_mm\"}, inplace=True)\n",
    "\n",
    "# # 試験片のデータ\n",
    "# shikenhen = df1.iloc[3:, 1:].astype(float).reset_index(drop=True)\n",
    "# shikenhen.rename(columns={1: \"distance_bef\", 2: \"diameter_bef\",\n",
    "#                  3: \"distance_aft\", 4: \"diameter_aft\"}, inplace=True)\n",
    "# # 引張り試験のデータ\n",
    "# hippari = df2[[\"weight_kN\", \"stretch_mm\", \"shrink_mm\"]].fillna(\n",
    "#     0).iloc[2:].astype(float).reset_index(drop=True)\n",
    "# # print(hippari)\n",
    "\n",
    "# avg_distance_before = shikenhen[\"distance_bef\"].mean()\n",
    "# print(f'試験前の標点間距離の平均は {avg_distance_before.round(4)} mm')\n",
    "# avg_distance_after = shikenhen[\"distance_aft\"].mean()\n",
    "# print(f'試験後の標点間距離の平均は {avg_distance_after.round(4)} mm')\n",
    "# avg_diameter_before = shikenhen[\"diameter_bef\"].mean(axis=0)\n",
    "# print(f'試験前の外径の平均は {avg_diameter_before.round(4)} mm')\n",
    "# area_before = (np.pi*(avg_diameter_before/2)**2).round(4)\n",
    "# print(f'試験前の断面積は {area_before} mm^2')\n",
    "# avg_diameter_after = shikenhen[\"diameter_aft\"].mean(axis=0)\n",
    "# print(f'試験前後外径の平均は {avg_diameter_after.round(4)} mm')\n",
    "# area_after = (np.pi*(avg_diameter_after/2)**2).round(4)\n",
    "# print(f'試験後の断面積は {area_after} mm^2')\n",
    "# # 最大荷重\n",
    "# P_max = hippari[\"weight_kN\"].max().round(2)\n",
    "# print(f'最大荷重は {P_max} kN')\n",
    "# # 引張強さ\n",
    "# sigma_max = P_max*10**3/area_before\n",
    "# print(f'引張強さ σ_max は {sigma_max.round(4)} MPa')\n",
    "# # 全伸び\n",
    "# zennobi = (avg_distance_after-avg_distance_before)/avg_distance_before\n",
    "# print(f'全伸び δ は {zennobi.round(4)}')\n",
    "# # 絞り\n",
    "# shibori = (area_before-area_after)/area_before\n",
    "# print(f'絞り φ は {shibori.round(4)}\\n')\n",
    "\n",
    "# # 公称応力、公称ひずみ、対数ひずみ、実応力を計算する\n",
    "# hippari[\"nominal_stress_MPa\"] = (hippari[\"weight_kN\"]*1000/area_before).round(1) #公称応力\n",
    "# hippari[\"nominal_strain\"] = hippari[\"stretch_mm\"]*10**(-6) #公称ひずみ\n",
    "# hippari[\"log_strain\"] = np.log(1+hippari[\"nominal_strain\"]) #対数ひずみ\n",
    "# hippari[\"true_stress_MPa\"] = hippari[\"nominal_stress_MPa\"]*(1+hippari[\"nominal_strain\"]) #実応力\n",
    "\n",
    "# # 一様変形が開始したところから最大荷重点の一つ前までのデータを求める\n",
    "# hippari2 = hippari.copy()\n",
    "# hippari2 = hippari2.iloc[19:33].reset_index(drop=True)\n",
    "# hippari2[\"shrink_mm\"].replace(0, pd.NA,inplace=True)\n",
    "# hippari2.drop(columns=['nominal_stress_MPa','nominal_strain'],inplace=True)\n",
    "\n",
    "# # csvファイルに出力\n",
    "# hippari.to_csv(\"hippari.csv\",index=False,float_format='%g')\n",
    "# hippari2.to_csv(\"hippari2.csv\",index=False,float_format='%g')\n",
    "\n",
    "# # stress-strain diagram\n",
    "# x1=hippari[\"nominal_strain\"] #  x軸\n",
    "# y1=hippari[\"nominal_stress_MPa\"] # y軸\n",
    "# x2=hippari2[\"log_strain\"]\n",
    "# y2=hippari2[\"true_stress_MPa\"]\n",
    "\n",
    "# plt.grid(True,alpha=0.3)\n",
    "# plt.plot(x1,y1,'g',label=\"公称ひずみー降伏応力\")\n",
    "# plt.plot(x2,y2,'r',label=\"対数ひずみー実応力\")\n",
    "# plt.title(\"塑性曲線(公称応力ー公称ひずみ、実応力ー対数ひずみ線図)\",fontsize=20,pad=20)\n",
    "# plt.xlabel('ひずみ ε [-]', fontsize=16)\n",
    "# plt.ylabel('応力　σ [MPa]', fontsize=16)\n",
    "# plt.legend()\n",
    "# plt.show()\n",
    "\n",
    "# print(f'\\n図より上降伏応力 δ_upper は 293.0 MPa')\n",
    "# print(f'図より下降伏応力 δ_lower は 284.5 MPa')"
   ]
  },
  {
   "cell_type": "code",
   "execution_count": null,
   "id": "59d71a6c-e575-48a7-b5ca-732bfc225e82",
   "metadata": {},
   "outputs": [],
   "source": []
  }
 ],
 "metadata": {
  "kernelspec": {
   "display_name": "Python 3 (ipykernel)",
   "language": "python",
   "name": "python3"
  },
  "language_info": {
   "codemirror_mode": {
    "name": "ipython",
    "version": 3
   },
   "file_extension": ".py",
   "mimetype": "text/x-python",
   "name": "python",
   "nbconvert_exporter": "python",
   "pygments_lexer": "ipython3",
   "version": "3.10.2"
  }
 },
 "nbformat": 4,
 "nbformat_minor": 5
}
